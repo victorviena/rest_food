{
 "cells": [
  {
   "cell_type": "markdown",
   "id": "2133df9a-7a32-4f41-8de8-a63e04e053e7",
   "metadata": {
    "tags": []
   },
   "source": [
    "# Importação de bibliotecas"
   ]
  },
  {
   "cell_type": "code",
   "execution_count": 290,
   "id": "5355a0f1-ddfb-4b76-935c-c125d161463f",
   "metadata": {
    "tags": []
   },
   "outputs": [],
   "source": [
    "import pandas as pd\n",
    "import plotly.express as px\n",
    "import streamlit as st\n",
    "import folium\n",
    "from folium.plugins import MarkerCluster\n",
    "from streamlit_folium import folium_static\n",
    "from PIL import Image"
   ]
  },
  {
   "cell_type": "code",
   "execution_count": 306,
   "id": "63e0a492-a211-4a96-9100-09c5bf9cf081",
   "metadata": {
    "tags": []
   },
   "outputs": [],
   "source": [
    "def qtd_aval_receb():\n",
    "\n",
    "    qtd_aval_receb = df.loc[:, \"Votes\"].sum()\n",
    "            \n",
    "    formatted_output = format(qtd_aval_receb, \",\")\n",
    "    \n",
    "    return formatted_output"
   ]
  },
  {
   "cell_type": "code",
   "execution_count": 307,
   "id": "593564a5-67f8-46f3-9322-c34168e90db6",
   "metadata": {
    "tags": []
   },
   "outputs": [
    {
     "data": {
      "text/plain": [
       "'4,195,634'"
      ]
     },
     "execution_count": 307,
     "metadata": {},
     "output_type": "execute_result"
    }
   ],
   "source": [
    "qtd_aval_receb()"
   ]
  },
  {
   "cell_type": "markdown",
   "id": "a6551e15-b79c-4d3f-8db2-9a72971ddf06",
   "metadata": {
    "jp-MarkdownHeadingCollapsed": true,
    "tags": []
   },
   "source": [
    "# Importação do dataframe"
   ]
  },
  {
   "cell_type": "code",
   "execution_count": 291,
   "id": "1a911f4b-3a33-40b8-ad4b-3fd5f9d33260",
   "metadata": {
    "tags": []
   },
   "outputs": [],
   "source": [
    "df = pd.read_csv ('raw_data.csv')"
   ]
  },
  {
   "cell_type": "code",
   "execution_count": null,
   "id": "12bcbe08-6358-470b-8a19-2a97b417391a",
   "metadata": {
    "tags": []
   },
   "outputs": [],
   "source": [
    "df.head(2)"
   ]
  },
  {
   "cell_type": "markdown",
   "id": "5c18d51b-85f2-4b8e-ae21-ab54d905e90c",
   "metadata": {
    "jp-MarkdownHeadingCollapsed": true,
    "tags": []
   },
   "source": [
    "# Tratamento e limpeza da base de dados"
   ]
  },
  {
   "cell_type": "code",
   "execution_count": 292,
   "id": "57658797-c5dc-411b-b4d2-41ed8783843d",
   "metadata": {
    "tags": []
   },
   "outputs": [],
   "source": [
    "#Removendo restaurantes duplicados da base de dados\n",
    "\n",
    "df = df.drop_duplicates()\n",
    "\n",
    "#Definindo apenas 1 tipo de culinária por restaurate\n",
    "\n",
    "df[\"Cuisines\"] = df.loc[:, \"Cuisines\"].astype(str).apply(lambda x: x.split(\",\")[0])\n",
    "\n",
    "#Criando coluna de nome do país a partir do código do país\n",
    "\n",
    "COUNTRIES = {\n",
    "1: \"India\",\n",
    "14: \"Australia\",\n",
    "30: \"Brazil\",\n",
    "37: \"Canada\",\n",
    "94: \"Indonesia\",\n",
    "148: \"New Zeland\",\n",
    "162: \"Philippines\",\n",
    "166: \"Qatar\",\n",
    "184: \"Singapure\",\n",
    "189: \"South Africa\",\n",
    "191: \"Sri Lanka\",\n",
    "208: \"Turkey\",\n",
    "214: \"United Arab Emirates\",\n",
    "215: \"England\",\n",
    "216: \"United States of America\",\n",
    "}\n",
    "\n",
    "df['Country Name'] = df['Country Code'].apply(lambda x: COUNTRIES.get(x))"
   ]
  },
  {
   "cell_type": "markdown",
   "id": "cd2c76ea-3614-49a9-a03c-50d77ebab35c",
   "metadata": {
    "jp-MarkdownHeadingCollapsed": true,
    "tags": []
   },
   "source": [
    "# Visualização do dataframe"
   ]
  },
  {
   "cell_type": "code",
   "execution_count": 295,
   "id": "fafef990-4354-4e43-9699-c3cb8d1313b6",
   "metadata": {
    "tags": []
   },
   "outputs": [
    {
     "data": {
      "text/html": [
       "<div>\n",
       "<style scoped>\n",
       "    .dataframe tbody tr th:only-of-type {\n",
       "        vertical-align: middle;\n",
       "    }\n",
       "\n",
       "    .dataframe tbody tr th {\n",
       "        vertical-align: top;\n",
       "    }\n",
       "\n",
       "    .dataframe thead th {\n",
       "        text-align: right;\n",
       "    }\n",
       "</style>\n",
       "<table border=\"1\" class=\"dataframe\">\n",
       "  <thead>\n",
       "    <tr style=\"text-align: right;\">\n",
       "      <th></th>\n",
       "      <th>Restaurant ID</th>\n",
       "      <th>Restaurant Name</th>\n",
       "      <th>Country Code</th>\n",
       "      <th>City</th>\n",
       "      <th>Address</th>\n",
       "      <th>Locality</th>\n",
       "      <th>Locality Verbose</th>\n",
       "      <th>Longitude</th>\n",
       "      <th>Latitude</th>\n",
       "      <th>Cuisines</th>\n",
       "      <th>...</th>\n",
       "      <th>Has Table booking</th>\n",
       "      <th>Has Online delivery</th>\n",
       "      <th>Is delivering now</th>\n",
       "      <th>Switch to order menu</th>\n",
       "      <th>Price range</th>\n",
       "      <th>Aggregate rating</th>\n",
       "      <th>Rating color</th>\n",
       "      <th>Rating text</th>\n",
       "      <th>Votes</th>\n",
       "      <th>Country Name</th>\n",
       "    </tr>\n",
       "  </thead>\n",
       "  <tbody>\n",
       "    <tr>\n",
       "      <th>0</th>\n",
       "      <td>6310675</td>\n",
       "      <td>Mama Lou's Italian Kitchen</td>\n",
       "      <td>162</td>\n",
       "      <td>Las Piñas City</td>\n",
       "      <td>Block 1, Lot 36, Tropical Avenue Corner Tropic...</td>\n",
       "      <td>BF International</td>\n",
       "      <td>BF International, Las Piñas City</td>\n",
       "      <td>121.009787</td>\n",
       "      <td>14.447615</td>\n",
       "      <td>Italian</td>\n",
       "      <td>...</td>\n",
       "      <td>1</td>\n",
       "      <td>0</td>\n",
       "      <td>0</td>\n",
       "      <td>0</td>\n",
       "      <td>3</td>\n",
       "      <td>4.6</td>\n",
       "      <td>3F7E00</td>\n",
       "      <td>Excellent</td>\n",
       "      <td>619</td>\n",
       "      <td>Philippines</td>\n",
       "    </tr>\n",
       "  </tbody>\n",
       "</table>\n",
       "<p>1 rows × 22 columns</p>\n",
       "</div>"
      ],
      "text/plain": [
       "   Restaurant ID             Restaurant Name  Country Code            City   \n",
       "0        6310675  Mama Lou's Italian Kitchen           162  Las Piñas City  \\\n",
       "\n",
       "                                             Address          Locality   \n",
       "0  Block 1, Lot 36, Tropical Avenue Corner Tropic...  BF International  \\\n",
       "\n",
       "                   Locality Verbose   Longitude   Latitude Cuisines  ...   \n",
       "0  BF International, Las Piñas City  121.009787  14.447615  Italian  ...  \\\n",
       "\n",
       "   Has Table booking Has Online delivery  Is delivering now   \n",
       "0                  1                   0                  0  \\\n",
       "\n",
       "   Switch to order menu  Price range  Aggregate rating  Rating color   \n",
       "0                     0            3               4.6        3F7E00  \\\n",
       "\n",
       "   Rating text Votes Country Name  \n",
       "0    Excellent   619  Philippines  \n",
       "\n",
       "[1 rows x 22 columns]"
      ]
     },
     "execution_count": 295,
     "metadata": {},
     "output_type": "execute_result"
    }
   ],
   "source": [
    "df.head(1)"
   ]
  },
  {
   "cell_type": "code",
   "execution_count": null,
   "id": "959ea550-8cea-47af-abe8-526201c2b969",
   "metadata": {
    "tags": []
   },
   "outputs": [],
   "source": [
    "df.shape"
   ]
  },
  {
   "cell_type": "code",
   "execution_count": null,
   "id": "d26a694f-a8d6-4330-bc2e-903ce16b2896",
   "metadata": {
    "tags": []
   },
   "outputs": [],
   "source": [
    "df.columns"
   ]
  },
  {
   "cell_type": "markdown",
   "id": "624f62ab-188a-479d-a8ee-011b3d815333",
   "metadata": {
    "jp-MarkdownHeadingCollapsed": true,
    "tags": []
   },
   "source": [
    "# Criação de códigos dos exercícios"
   ]
  },
  {
   "cell_type": "markdown",
   "id": "8a2bb8d4-b223-46cf-8bb6-77f14c443eaf",
   "metadata": {
    "jp-MarkdownHeadingCollapsed": true,
    "tags": []
   },
   "source": [
    "## Geral"
   ]
  },
  {
   "cell_type": "markdown",
   "id": "d40cf09d-5729-4b3a-b554-51aa089c5653",
   "metadata": {
    "jp-MarkdownHeadingCollapsed": true,
    "tags": []
   },
   "source": [
    "### 1. Quantos restaurantes únicos estão registrados?"
   ]
  },
  {
   "cell_type": "markdown",
   "id": "1e16867d-0514-4e62-9906-d5a2c3009d38",
   "metadata": {},
   "source": [
    "**Saída**\n",
    "\n",
    "Número de restaurantes\n",
    "\n",
    "\n",
    "**Processo**\n",
    "\n",
    "Filtrar coluna id do restaurante\n",
    "\n",
    "Contar quantidade de ids únicos\n",
    "\n",
    "\n",
    "**Entrada**"
   ]
  },
  {
   "cell_type": "code",
   "execution_count": null,
   "id": "2b07d1a8-4ee1-43b2-b604-6dd9b70d4398",
   "metadata": {
    "tags": []
   },
   "outputs": [],
   "source": [
    "df.loc[:, \"Restaurant ID\"].nunique()"
   ]
  },
  {
   "cell_type": "markdown",
   "id": "6ea0090e-64be-4079-ac3a-c82594d843c5",
   "metadata": {
    "jp-MarkdownHeadingCollapsed": true,
    "tags": []
   },
   "source": [
    "### 2. Quantos países únicos estão registrados?"
   ]
  },
  {
   "cell_type": "markdown",
   "id": "80e6133c-486a-44c9-97ea-ca953c75caaf",
   "metadata": {},
   "source": [
    "**Saída**\n",
    "\n",
    "Quantidade de países únicos\n",
    "\n",
    "\n",
    "**Processo**\n",
    "\n",
    "Filtrar coluna country code\n",
    "\n",
    "Contar quantidade de códigos únicos\n",
    "\n",
    "\n",
    "**Entrada**"
   ]
  },
  {
   "cell_type": "code",
   "execution_count": null,
   "id": "712b2ae6-e8fe-4d33-b38c-99c7a25befec",
   "metadata": {
    "tags": []
   },
   "outputs": [],
   "source": [
    "df.loc[:, \"Country Code\"].nunique()"
   ]
  },
  {
   "cell_type": "markdown",
   "id": "a0027156-8909-4605-a385-86cb21e50c97",
   "metadata": {
    "jp-MarkdownHeadingCollapsed": true,
    "tags": []
   },
   "source": [
    "### 3. Quantas cidades únicas estão registradas?"
   ]
  },
  {
   "cell_type": "markdown",
   "id": "9bef4c92-d56c-447b-b28f-b916220f596e",
   "metadata": {},
   "source": [
    "**Saída**\n",
    "\n",
    "Número de cidades únicas\n",
    "\n",
    "\n",
    "**Processo**\n",
    "\n",
    "Filtrar coluna city\n",
    "\n",
    "Calcular quantidade de informações únicas\n",
    "\n",
    "\n",
    "**Entrada**"
   ]
  },
  {
   "cell_type": "code",
   "execution_count": null,
   "id": "f61fe99f-7890-47c3-be3b-4030d17fa3df",
   "metadata": {
    "tags": []
   },
   "outputs": [],
   "source": [
    "df.loc[:, \"City\"].nunique()"
   ]
  },
  {
   "cell_type": "markdown",
   "id": "2ee940ee-f681-4658-9ad5-41ca7e8bae0f",
   "metadata": {
    "jp-MarkdownHeadingCollapsed": true,
    "tags": []
   },
   "source": [
    "### 4. Qual o total de avaliações feitas?"
   ]
  },
  {
   "cell_type": "markdown",
   "id": "02b22334-81ce-4c7b-96fc-d27afc170af9",
   "metadata": {},
   "source": [
    "**Saída**\n",
    "\n",
    "\n",
    "\n",
    "\n",
    "**Processo**\n",
    "\n",
    "Filtrar coluna votes\n",
    "\n",
    "Somar a coluna votes\n",
    "\n",
    "\n",
    "**Entrada**"
   ]
  },
  {
   "cell_type": "code",
   "execution_count": null,
   "id": "f8095060-a72c-40c6-bcef-7820feba1654",
   "metadata": {
    "tags": []
   },
   "outputs": [],
   "source": [
    "df.loc[:, \"Votes\"].sum()"
   ]
  },
  {
   "cell_type": "markdown",
   "id": "c619ff86-c6e2-47a1-b797-0ced1e6d521e",
   "metadata": {
    "jp-MarkdownHeadingCollapsed": true,
    "tags": []
   },
   "source": [
    "### 5. Qual o total de tipos de culinária registrados?"
   ]
  },
  {
   "cell_type": "markdown",
   "id": "6711396f-1c8d-4b0e-a568-0ae6a0f347bc",
   "metadata": {},
   "source": [
    "**Saída**\n",
    "\n",
    "Quantidade de tipos de culinária\n",
    "\n",
    "\n",
    "**Processo**\n",
    "\n",
    "Filtrar coluna tipo de culinária\n",
    "\n",
    "Contar quantidade de tipos únicos registrados\n",
    "\n",
    "\n",
    "**Entrada**"
   ]
  },
  {
   "cell_type": "code",
   "execution_count": null,
   "id": "1613f127-b10b-414d-b92c-3aa794c0535d",
   "metadata": {
    "tags": []
   },
   "outputs": [],
   "source": [
    "df.loc[:, \"Cuisines\"].nunique()"
   ]
  },
  {
   "cell_type": "markdown",
   "id": "fa1d0867-c3d7-4ab6-9e70-a6830f048d4b",
   "metadata": {
    "jp-MarkdownHeadingCollapsed": true,
    "tags": []
   },
   "source": [
    "## País"
   ]
  },
  {
   "cell_type": "markdown",
   "id": "a03d275e-e671-4b99-a3b0-19bf463b4ccb",
   "metadata": {
    "jp-MarkdownHeadingCollapsed": true,
    "tags": []
   },
   "source": [
    "### 1. Qual o nome do país que possui mais cidades registradas?"
   ]
  },
  {
   "cell_type": "markdown",
   "id": "c4de38d6-37c3-401d-a331-3433fcdd1230",
   "metadata": {},
   "source": [
    "**Saída**\n",
    "\n",
    "Nome de um país\n",
    "\n",
    "\n",
    "**Processo**\n",
    "\n",
    "Filtrar código do país e cidade\n",
    "\n",
    "Agrupar por nome do país\n",
    "\n",
    "Contar quantidade de cidades únicas registradas por país\n",
    "\n",
    "Ordenar do maior para o menor\n",
    "\n",
    "Escolher a primeira linha\n",
    "\n",
    "\n",
    "**Entrada**"
   ]
  },
  {
   "cell_type": "code",
   "execution_count": 296,
   "id": "c1c1eaa6-afe0-4d89-a192-b44e8628d7f9",
   "metadata": {
    "tags": []
   },
   "outputs": [
    {
     "data": {
      "text/plain": [
       "'India'"
      ]
     },
     "execution_count": 296,
     "metadata": {},
     "output_type": "execute_result"
    }
   ],
   "source": [
    "df.loc[:, [\"Country Name\", \"City\"]].groupby(\"Country Name\").nunique(\"City\").sort_values(\"City\", ascending=False).reset_index().iloc[0,0]"
   ]
  },
  {
   "cell_type": "markdown",
   "id": "bca4aa0b-80cf-4326-9da0-bd25ed4e56e0",
   "metadata": {
    "jp-MarkdownHeadingCollapsed": true,
    "tags": []
   },
   "source": [
    "### 2. Qual o nome do país que possui mais restaurantes registrados?"
   ]
  },
  {
   "cell_type": "markdown",
   "id": "5196fb4c-ab4d-47c8-aafe-617d8675bec9",
   "metadata": {
    "tags": []
   },
   "source": [
    "**Saída**\n",
    "\n",
    "Nome de um país\n",
    "Com mais restaurantes registrados\n",
    "\n",
    "\n",
    "**Processo**\n",
    "\n",
    "Filtrar coluna nome do país e id do restaurante\n",
    "\n",
    "Agrupar por país\n",
    "\n",
    "Contar a coluna id do restaurante\n",
    "\n",
    "Ordenar do maior para o menor valor\n",
    "\n",
    "Resetar o index\n",
    "\n",
    "Localizar o nome do país\n",
    "\n",
    "\n",
    "**Entrada**"
   ]
  },
  {
   "cell_type": "code",
   "execution_count": 297,
   "id": "c75a097f-4291-4217-95aa-4c60f838884e",
   "metadata": {
    "tags": []
   },
   "outputs": [
    {
     "data": {
      "text/plain": [
       "'India'"
      ]
     },
     "execution_count": 297,
     "metadata": {},
     "output_type": "execute_result"
    }
   ],
   "source": [
    "df.loc[:, [\"Country Name\", \"Restaurant ID\"]].groupby(\"Country Name\").nunique(\"Restaurant ID\").sort_values(\"Restaurant ID\", ascending=False).reset_index().iloc[0,0]"
   ]
  },
  {
   "cell_type": "markdown",
   "id": "3ef9b831-5f8b-476d-80cb-c153a5311f82",
   "metadata": {
    "jp-MarkdownHeadingCollapsed": true,
    "tags": []
   },
   "source": [
    "### 3. Qual o nome do país que possui mais restaurantes com o nível de preço igual a 4 registrados?"
   ]
  },
  {
   "cell_type": "markdown",
   "id": "fe8a4df9-39a8-45f0-8114-f513cc25e3b5",
   "metadata": {},
   "source": [
    "**Saída**\n",
    "\n",
    "Nome de um país\n",
    "Com mais restaurantes com nível de preço igual a 4\n",
    "\n",
    "\n",
    "**Processo**\n",
    "\n",
    "Filtrar linha nível de preço igual a 4\n",
    "\n",
    "Filtrar coluna nome do país e id do restaurante\n",
    "\n",
    "Agrupar por país\n",
    "\n",
    "Contar a coluna id do restaurante\n",
    "\n",
    "Ordenar pela coluna id do restaurante contado\n",
    "\n",
    "Resetar o index\n",
    "\n",
    "Localizar o nome do país\n",
    "\n",
    "\n",
    "**Entrada**"
   ]
  },
  {
   "cell_type": "code",
   "execution_count": 298,
   "id": "a34efa70-1c2a-4f76-afb2-89585aef794d",
   "metadata": {
    "tags": []
   },
   "outputs": [
    {
     "data": {
      "text/plain": [
       "'United States of America'"
      ]
     },
     "execution_count": 298,
     "metadata": {},
     "output_type": "execute_result"
    }
   ],
   "source": [
    "df.loc[df[\"Price range\"] == 4, [\"Country Name\", \"Restaurant ID\"]].groupby(\"Country Name\").nunique(\"Restaurant ID\").sort_values(\"Restaurant ID\", ascending=False).reset_index().iloc[0,0]"
   ]
  },
  {
   "cell_type": "markdown",
   "id": "a3e961d2-6799-4d3e-8142-159fc40c488b",
   "metadata": {
    "jp-MarkdownHeadingCollapsed": true,
    "tags": []
   },
   "source": [
    "### 4. Qual o nome do país que possui a maior quantidade de tipos de culinária distintos?"
   ]
  },
  {
   "cell_type": "markdown",
   "id": "5bbc2871-aac5-4414-a335-e7cccece84f6",
   "metadata": {},
   "source": [
    "**Saída**\n",
    "\n",
    "Nome de um país\n",
    "Com a maior quantidade de tipos culinários\n",
    "\n",
    "\n",
    "**Processo**\n",
    "\n",
    "Filtrar coluna nome do país e tipo culinário\n",
    "\n",
    "Agrupar por nome do país\n",
    "\n",
    "Contar os valores únicos da coluna tipo culinário\n",
    "\n",
    "Ordenar do maior para o menor valor\n",
    "\n",
    "Resetar o index\n",
    "\n",
    "Localizar o nome do país\n",
    "\n",
    "\n",
    "**Entrada**"
   ]
  },
  {
   "cell_type": "code",
   "execution_count": 299,
   "id": "fddeef3d-5ad4-469e-aa49-ee619391675b",
   "metadata": {
    "tags": []
   },
   "outputs": [
    {
     "data": {
      "text/plain": [
       "'India'"
      ]
     },
     "execution_count": 299,
     "metadata": {},
     "output_type": "execute_result"
    }
   ],
   "source": [
    "df.loc[:, [\"Country Name\", \"Cuisines\"]].groupby(\"Country Name\").nunique(\"Cuisines\").sort_values(\"Cuisines\", ascending=False).reset_index().iloc[0,0]"
   ]
  },
  {
   "cell_type": "markdown",
   "id": "21757d9c-6e9d-4d8b-a401-4f572704030a",
   "metadata": {
    "jp-MarkdownHeadingCollapsed": true,
    "tags": []
   },
   "source": [
    "### 5. Qual o nome do país que possui a maior quantidade de avaliações feitas?"
   ]
  },
  {
   "cell_type": "markdown",
   "id": "e02f0ea0-6572-43dc-abc3-2e28f8376462",
   "metadata": {},
   "source": [
    "**Saída**\n",
    "\n",
    "Nome de um país\n",
    "com a maior quantidade de avaliações feitas\n",
    "\n",
    "\n",
    "**Processo**\n",
    "\n",
    "Filtrar coluna nome do país e votos\n",
    "\n",
    "Agrupar por nome do país\n",
    "\n",
    "Somar a coluna votos\n",
    "\n",
    "Ordenar a coluna votos do maior para o menor valor\n",
    "\n",
    "Resetar o index\n",
    "\n",
    "Localizar o nome do país\n",
    "\n",
    "\n",
    "**Entrada**"
   ]
  },
  {
   "cell_type": "code",
   "execution_count": 300,
   "id": "1b39ef46-b5bd-4780-97a9-af6f936e5c5d",
   "metadata": {
    "tags": []
   },
   "outputs": [
    {
     "data": {
      "text/plain": [
       "'India'"
      ]
     },
     "execution_count": 300,
     "metadata": {},
     "output_type": "execute_result"
    }
   ],
   "source": [
    "df.loc[:, [\"Country Name\", \"Votes\"]].groupby(\"Country Name\").sum(\"Votes\").sort_values(\"Votes\", ascending=False).reset_index().iloc[0,0]"
   ]
  },
  {
   "cell_type": "markdown",
   "id": "6b2700e3-0d91-4d7b-b608-6aacf3a6fa21",
   "metadata": {
    "jp-MarkdownHeadingCollapsed": true,
    "tags": []
   },
   "source": [
    "### 6. Qual o nome do país que possui a maior quantidade de restaurantes que fazem entrega?"
   ]
  },
  {
   "cell_type": "markdown",
   "id": "c04c8b9e-e8bb-4e7a-8a4c-d0c5aecd30a6",
   "metadata": {},
   "source": [
    "**Saída**\n",
    "\n",
    "Nome de um país\n",
    "Com mais restaurantes que fazem entrega\n",
    "\n",
    "\n",
    "**Processo**\n",
    "\n",
    "Filtrar linha \"Has Online delivery\" como 1\n",
    "\n",
    "Filtrar coluna nome do país e id do restaurante\n",
    "\n",
    "Agrupar por país\n",
    "\n",
    "Contar a coluna id do restaurante\n",
    "\n",
    "Ordenar pela coluna id do restaurante contado\n",
    "\n",
    "Resetar o index\n",
    "\n",
    "Localizar o nome do país\n",
    "\n",
    "\n",
    "**Entrada**"
   ]
  },
  {
   "cell_type": "code",
   "execution_count": 301,
   "id": "deee496d-2148-4dc1-a815-c5ebd29247c8",
   "metadata": {
    "tags": []
   },
   "outputs": [
    {
     "data": {
      "text/plain": [
       "'India'"
      ]
     },
     "execution_count": 301,
     "metadata": {},
     "output_type": "execute_result"
    }
   ],
   "source": [
    "df.loc[df[\"Is delivering now\"] == 1, [\"Country Name\", \"Restaurant ID\"]].groupby(\"Country Name\").nunique(\"Restaurant ID\").sort_values(\"Restaurant ID\", ascending=False).reset_index().iloc[0,0]"
   ]
  },
  {
   "cell_type": "markdown",
   "id": "67f1d402-7f65-43fe-9555-f4cf49257685",
   "metadata": {
    "jp-MarkdownHeadingCollapsed": true,
    "tags": []
   },
   "source": [
    "### 7. Qual o nome do país que possui a maior quantidade de restaurantes que aceitam reservas?"
   ]
  },
  {
   "cell_type": "markdown",
   "id": "ea845d68-1116-4266-a9ac-0de7a1e8667a",
   "metadata": {},
   "source": [
    "**Saída**\n",
    "\n",
    "Nome de um país\n",
    "Com mais restaurantes que fazem entrega\n",
    "\n",
    "\n",
    "**Processo**\n",
    "\n",
    "Filtrar linha \"Has Table booking\" como 1\n",
    "\n",
    "Filtrar coluna nome do país e id do restaurante\n",
    "\n",
    "Agrupar por país\n",
    "\n",
    "Contar a coluna id do restaurante\n",
    "\n",
    "Ordenar pela coluna id do restaurante contado\n",
    "\n",
    "Resetar o index\n",
    "\n",
    "Localizar o nome do país\n",
    "\n",
    "\n",
    "**Entrada**"
   ]
  },
  {
   "cell_type": "code",
   "execution_count": 302,
   "id": "a2d7db24-1cfc-4fe4-b19e-635586aacae1",
   "metadata": {
    "tags": []
   },
   "outputs": [
    {
     "data": {
      "text/plain": [
       "'India'"
      ]
     },
     "execution_count": 302,
     "metadata": {},
     "output_type": "execute_result"
    }
   ],
   "source": [
    "df.loc[df[\"Has Table booking\"] == 1, [\"Country Name\", \"Restaurant ID\"]].groupby(\"Country Name\").nunique(\"Restaurant ID\").sort_values(\"Restaurant ID\", ascending=False).reset_index().iloc[0,0]"
   ]
  },
  {
   "cell_type": "markdown",
   "id": "f1ebd731-5cee-4f38-88eb-c02d2e9517e6",
   "metadata": {
    "jp-MarkdownHeadingCollapsed": true,
    "tags": []
   },
   "source": [
    "### 8. Qual o nome do país que possui, na média, a maior quantidade de avaliações registrada?"
   ]
  },
  {
   "cell_type": "markdown",
   "id": "42316624-3af7-4da7-a1a5-d884594dcea7",
   "metadata": {},
   "source": [
    "**Saída**\n",
    "\n",
    "Nome de um país\n",
    "Com a maior quantidade média de avaliações por restaurante\n",
    "\n",
    "\n",
    "**Processo**\n",
    "\n",
    "Filtrar coluna nome do país e avaliações\n",
    "\n",
    "Agrupar por nome do país\n",
    "\n",
    "Calcular a média das avaliações\n",
    "\n",
    "Ordenar da maior para a menor média\n",
    "\n",
    "Resetar o index\n",
    "\n",
    "Localizar o nome do país com maior média de avaliações por restaurantes\n",
    "\n",
    "\n",
    "**Entrada**"
   ]
  },
  {
   "cell_type": "code",
   "execution_count": 303,
   "id": "c6019a10-95b4-41f9-94a4-fd5f1b483809",
   "metadata": {
    "tags": []
   },
   "outputs": [
    {
     "data": {
      "text/plain": [
       "'Indonesia'"
      ]
     },
     "execution_count": 303,
     "metadata": {},
     "output_type": "execute_result"
    }
   ],
   "source": [
    "df.loc[:, [\"Country Name\", \"Votes\"]].groupby(\"Country Name\").mean().sort_values(\"Votes\", ascending=False).reset_index().iloc[0,0]"
   ]
  },
  {
   "cell_type": "markdown",
   "id": "fe1429d0-e43e-4193-b232-38f507a9e676",
   "metadata": {
    "jp-MarkdownHeadingCollapsed": true,
    "tags": []
   },
   "source": [
    "### 9. Qual o nome do país que possui, na média, a maior nota média registrada?"
   ]
  },
  {
   "cell_type": "markdown",
   "id": "325e825d-f9a7-4dd4-8f3a-1dc721c40f4d",
   "metadata": {},
   "source": [
    "**Saída**\n",
    "\n",
    "Nome de um país\n",
    "Com a maior nota média de avaliações por restaurante\n",
    "\n",
    "\n",
    "**Processo**\n",
    "\n",
    "Filtrar coluna nome do país e nota do restaurate\n",
    "\n",
    "Agrupar por nome do país\n",
    "\n",
    "Calcular a média da nota do restaurante\n",
    "\n",
    "Ordenar da maior para a menor média\n",
    "\n",
    "Resetar o index\n",
    "\n",
    "Localizar o nome do país com maior média de avaliações por restaurantes\n",
    "\n",
    "\n",
    "**Entrada**"
   ]
  },
  {
   "cell_type": "code",
   "execution_count": 304,
   "id": "717e68c4-b9d4-4363-8ee1-53859c01cbd0",
   "metadata": {
    "tags": []
   },
   "outputs": [
    {
     "data": {
      "text/plain": [
       "'Indonesia'"
      ]
     },
     "execution_count": 304,
     "metadata": {},
     "output_type": "execute_result"
    }
   ],
   "source": [
    "df.loc[:, [\"Country Name\", \"Aggregate rating\"]].groupby(\"Country Name\").mean(\"Aggregate rating\").sort_values(\"Aggregate rating\", ascending=False).reset_index().iloc[0,0]"
   ]
  },
  {
   "cell_type": "markdown",
   "id": "1b468711-dd43-4c68-ac44-51e2b3a020fc",
   "metadata": {
    "jp-MarkdownHeadingCollapsed": true,
    "tags": []
   },
   "source": [
    "### 10. Qual o nome do país que possui, na média, a menor nota média registrada?"
   ]
  },
  {
   "cell_type": "markdown",
   "id": "813217ae-2698-4ba5-87a2-e09bbbde0676",
   "metadata": {},
   "source": [
    "**Saída**\n",
    "\n",
    "Nome de um país\n",
    "Com a maior nota média de avaliações por restaurante\n",
    "\n",
    "\n",
    "**Processo**\n",
    "\n",
    "Filtrar coluna nome do país e nota do restaurate\n",
    "\n",
    "Agrupar por nome do país\n",
    "\n",
    "Calcular a média da nota do restaurante\n",
    "\n",
    "Ordenar da menor para a maior média\n",
    "\n",
    "Resetar o index\n",
    "\n",
    "Localizar o nome do país com maior média de avaliações por restaurantes\n",
    "\n",
    "\n",
    "**Entrada**"
   ]
  },
  {
   "cell_type": "code",
   "execution_count": 305,
   "id": "c16dc403-ce69-4929-80ca-56f5b384ab9d",
   "metadata": {
    "tags": []
   },
   "outputs": [
    {
     "data": {
      "text/plain": [
       "'Brazil'"
      ]
     },
     "execution_count": 305,
     "metadata": {},
     "output_type": "execute_result"
    }
   ],
   "source": [
    "df.loc[:, [\"Country Name\", \"Aggregate rating\"]].groupby(\"Country Name\").mean(\"Aggregate rating\").sort_values(\"Aggregate rating\", ascending=True).reset_index().iloc[0,0]"
   ]
  },
  {
   "cell_type": "markdown",
   "id": "3243714c-ae6d-4f8c-abd1-4593b7b8e8ed",
   "metadata": {
    "tags": []
   },
   "source": [
    "### 11. Qual a média de preço de um prato para dois por país?"
   ]
  },
  {
   "cell_type": "markdown",
   "id": "8e886788-c522-49d1-84a5-35fedddf3010",
   "metadata": {},
   "source": [
    "**Saída**\n",
    "\n",
    "Tabela com a média de preço\n",
    "De um prato para dois\n",
    "Por país\n",
    "\n",
    "\n",
    "**Processo**\n",
    "\n",
    "Filtrar coluna nome do país e média de preço de um prato para dois\n",
    "\n",
    "Agrupar por país\n",
    "\n",
    "Calcular a média do preço médio de um prato para dois por restaurante\n",
    "\n",
    "Resetar o index\n",
    "\n",
    "Exibir a tabela\n",
    "\n",
    "\n",
    "**Entrada**"
   ]
  },
  {
   "cell_type": "code",
   "execution_count": null,
   "id": "d6d35460-30ad-4882-9891-698e358a9d9e",
   "metadata": {
    "tags": []
   },
   "outputs": [],
   "source": [
    "df.loc[:, [\"Average Cost for two\", \"Country Name\"]].groupby(\"Country Name\").mean(\"Average Cost for two\").sort_values(\"Average Cost for two\", ascending=False).reset_index()"
   ]
  },
  {
   "cell_type": "markdown",
   "id": "d0e414c3-a8d7-4803-bcfe-292780c1b0c1",
   "metadata": {
    "jp-MarkdownHeadingCollapsed": true,
    "tags": []
   },
   "source": [
    "## Cidade"
   ]
  },
  {
   "cell_type": "markdown",
   "id": "d142fdd0-09d9-44bc-960b-9e31a6872c85",
   "metadata": {
    "jp-MarkdownHeadingCollapsed": true,
    "tags": []
   },
   "source": [
    "### 1. Qual o nome da cidade que possui mais restaurantes registrados?"
   ]
  },
  {
   "cell_type": "markdown",
   "id": "239181b6-f0f6-4572-b98d-8944291110a5",
   "metadata": {},
   "source": [
    "**Saída**\n",
    "\n",
    "Nome de uma cidade\n",
    "Com mais restaurantes registrados\n",
    "\n",
    "\n",
    "**Processo**\n",
    "\n",
    "Filtrar coluna nome da cidade e id do restaurante\n",
    "\n",
    "Agrupar por cidade\n",
    "\n",
    "Contar a coluna id do restaurante\n",
    "\n",
    "Ordenar do maior para o menor valor\n",
    "\n",
    "Resetar o index\n",
    "\n",
    "Localizar o nome da cidade\n",
    "\n",
    "\n",
    "**Entrada**"
   ]
  },
  {
   "cell_type": "code",
   "execution_count": null,
   "id": "e08440d8-0c41-4dd0-a4c6-2fb93af9bfb8",
   "metadata": {
    "tags": []
   },
   "outputs": [],
   "source": [
    "df.loc[:, [\"City\", \"Restaurant ID\"]].groupby(\"City\").nunique(\"Restaurant ID\").sort_values(\"Restaurant ID\", ascending=False).reset_index().iloc[0,0]"
   ]
  },
  {
   "cell_type": "markdown",
   "id": "84745b6a-fc0e-4d3e-8bf8-c59691fb8cff",
   "metadata": {
    "jp-MarkdownHeadingCollapsed": true,
    "tags": []
   },
   "source": [
    "### 2. Qual o nome da cidade que possui mais restaurantes com nota média acima de 4?"
   ]
  },
  {
   "cell_type": "markdown",
   "id": "25f98b5a-c29e-4dd8-8c0e-d6514dc0d14b",
   "metadata": {},
   "source": [
    "**Saída**\n",
    "\n",
    "Nome de uma cidade\n",
    "Com mais restaurantes com nota média acima de 4\n",
    "\n",
    "\n",
    "**Processo**\n",
    "\n",
    "Filtrar linha nota média acima de 4\n",
    "\n",
    "Filtrar coluna cidade e id do restaurante\n",
    "\n",
    "Agrupar por cidade\n",
    "\n",
    "Contar a coluna id do restaurante\n",
    "\n",
    "Ordenar a coluna id de contagem dos restaurantes do maior para o menor\n",
    "\n",
    "Resetar o index\n",
    "\n",
    "Localizar o nome da cidade\n",
    "\n",
    "\n",
    "**Entrada**"
   ]
  },
  {
   "cell_type": "code",
   "execution_count": null,
   "id": "7a6d2640-ee5d-4e3e-8ee4-c14e57d5c194",
   "metadata": {
    "tags": []
   },
   "outputs": [],
   "source": [
    "df.loc[df[\"Aggregate rating\"] > 4, [\"City\", \"Restaurant ID\"]].groupby(\"City\").nunique(\"Restaurant ID\").sort_values(\"Restaurant ID\", ascending=False).reset_index().iloc[0,0]"
   ]
  },
  {
   "cell_type": "markdown",
   "id": "9154a9a5-8a03-4657-b5eb-5131e7d36f36",
   "metadata": {
    "jp-MarkdownHeadingCollapsed": true,
    "tags": []
   },
   "source": [
    "### 3. Qual o nome da cidade que possui mais restaurantes com nota média abaixo de 2.5?"
   ]
  },
  {
   "cell_type": "markdown",
   "id": "61b36d1d-e5d8-4828-9662-0aab93cc9929",
   "metadata": {},
   "source": [
    "**Saída**\n",
    "\n",
    "Nome de uma cidade\n",
    "Com mais restaurantes com nota média abaixo de 2,5\n",
    "\n",
    "\n",
    "**Processo**\n",
    "\n",
    "Filtrar linha nota média abaixo de 2.5\n",
    "\n",
    "Filtrar coluna cidade e id do restaurante\n",
    "\n",
    "Agrupar por cidade\n",
    "\n",
    "Contar a coluna id do restaurante\n",
    "\n",
    "Ordenar a coluna id de contagem dos restaurantes do maior para o menor\n",
    "\n",
    "Resetar o index\n",
    "\n",
    "Localizar o nome da cidade\n",
    "\n",
    "\n",
    "**Entrada**"
   ]
  },
  {
   "cell_type": "code",
   "execution_count": null,
   "id": "b283125c-f903-4b14-a4e3-0eccc3953bbf",
   "metadata": {
    "tags": []
   },
   "outputs": [],
   "source": [
    "df.loc[df[\"Aggregate rating\"] < 2.5, [\"City\", \"Restaurant ID\"]].groupby(\"City\").nunique(\"Restaurant ID\").sort_values(\"Restaurant ID\", ascending=False).reset_index().iloc[0,0]"
   ]
  },
  {
   "cell_type": "markdown",
   "id": "6f6db5f1-6595-403b-8917-190832428acd",
   "metadata": {
    "jp-MarkdownHeadingCollapsed": true,
    "tags": []
   },
   "source": [
    "### 4. Qual o nome da cidade que possui o maior valor médio de um prato para dois?"
   ]
  },
  {
   "cell_type": "markdown",
   "id": "d6639212-0e77-4335-9478-3459b69666bc",
   "metadata": {},
   "source": [
    "**Saída**\n",
    "\n",
    "Nome de uma cidade\n",
    "Com o maior valor médio de um prato para dois\n",
    "\n",
    "\n",
    "**Processo**\n",
    "\n",
    "Filtrar coluna cidade e preço médio de um prato para dois\n",
    "\n",
    "Agrupar por cidade\n",
    "\n",
    "Calcular a média do preço médio de um prato para dois\n",
    "\n",
    "Ordenar da maior para a menor média\n",
    "\n",
    "Resetar o index\n",
    "\n",
    "Localizar a cidade com maior preço médio de um prato para dois\n",
    "\n",
    "\n",
    "**Entrada**"
   ]
  },
  {
   "cell_type": "code",
   "execution_count": null,
   "id": "5df7ba60-55e6-49fe-b2f7-e2635b55b4db",
   "metadata": {
    "tags": []
   },
   "outputs": [],
   "source": [
    "df.loc[:, [\"City\", \"Average Cost for two\"]].groupby(\"City\").mean(\"Average Cost for two\").sort_values(\"Average Cost for two\", ascending=False).reset_index().iloc[0,0]"
   ]
  },
  {
   "cell_type": "markdown",
   "id": "331f5d72-2c19-45b1-9fd6-dd86735b854b",
   "metadata": {
    "jp-MarkdownHeadingCollapsed": true,
    "tags": []
   },
   "source": [
    "### 5. Qual o nome da cidade que possui a maior quantidade de tipos de culinária distintas?"
   ]
  },
  {
   "cell_type": "markdown",
   "id": "cbc08bd6-ae1f-4d8e-833c-be100a152428",
   "metadata": {},
   "source": [
    "**Saída**\n",
    "\n",
    "Nome de uma cidade\n",
    "Com a maior quantidade de tipos culinários\n",
    "\n",
    "\n",
    "**Processo**\n",
    "\n",
    "Filtrar coluna cidade e tipo culinário\n",
    "\n",
    "Agrupar por nome da cidade\n",
    "\n",
    "Contar os valores únicos da coluna tipo culinário\n",
    "\n",
    "Ordenar do maior para o menor valor\n",
    "\n",
    "Resetar o index\n",
    "\n",
    "Localizar o nome da cidade\n",
    "\n",
    "\n",
    "**Entrada**"
   ]
  },
  {
   "cell_type": "code",
   "execution_count": null,
   "id": "695fb6d4-369c-4a2c-8e77-725d0ee7660e",
   "metadata": {
    "tags": []
   },
   "outputs": [],
   "source": [
    "df.loc[:, [\"City\", \"Cuisines\"]].groupby(\"City\").nunique(\"Cuisines\").sort_values(\"Cuisines\", ascending=False).reset_index().iloc[0,0]"
   ]
  },
  {
   "cell_type": "markdown",
   "id": "ef26bd88-46ea-4be9-8d99-7ee5daef3bfb",
   "metadata": {
    "jp-MarkdownHeadingCollapsed": true,
    "tags": []
   },
   "source": [
    "### 6. Qual o nome da cidade que possui a maior quantidade de restaurantes que fazem reservas?"
   ]
  },
  {
   "cell_type": "markdown",
   "id": "c5b57442-805b-4b40-ab26-29df32f0f96a",
   "metadata": {},
   "source": [
    "**Saída**\n",
    "\n",
    "Nome de uma cidade\n",
    "Com mais restaurantes que fazem reservas\n",
    "\n",
    "\n",
    "**Processo**\n",
    "\n",
    "Filtrar linha \"Has Table booking\" como 1\n",
    "\n",
    "Filtrar coluna cidade e id do restaurante\n",
    "\n",
    "Agrupar por cidade\n",
    "\n",
    "Contar a coluna id do restaurante\n",
    "\n",
    "Ordenar a coluna id do restaurante contado do maior para o menor\n",
    "\n",
    "Resetar o index\n",
    "\n",
    "Localizar o nome da cidade\n",
    "\n",
    "\n",
    "**Entrada**"
   ]
  },
  {
   "cell_type": "code",
   "execution_count": null,
   "id": "90f4db88-d1f7-4913-8c82-2d1f510bd7c0",
   "metadata": {
    "tags": []
   },
   "outputs": [],
   "source": [
    "df.loc[df[\"Has Table booking\"] == 1, [\"City\", \"Restaurant ID\"]].groupby(\"City\").nunique(\"Restaurant ID\").sort_values(\"Restaurant ID\", ascending=False).reset_index().iloc[0,0]"
   ]
  },
  {
   "cell_type": "markdown",
   "id": "0c596509-331b-4e99-a66e-66fce1c6f661",
   "metadata": {
    "jp-MarkdownHeadingCollapsed": true,
    "tags": []
   },
   "source": [
    "### 7. Qual o nome da cidade que possui a maior quantidade de restaurantes que fazem entregas?"
   ]
  },
  {
   "cell_type": "markdown",
   "id": "206d343e-edc1-4b44-80c7-56b6add57d33",
   "metadata": {},
   "source": [
    "**Saída**\n",
    "\n",
    "Nome de uma cidade\n",
    "Com mais restaurantes que fazem entregas\n",
    "\n",
    "\n",
    "**Processo**\n",
    "\n",
    "Filtrar linha \"Is delivering now\" como 1\n",
    "\n",
    "Filtrar coluna cidade e id do restaurante\n",
    "\n",
    "Agrupar por cidade\n",
    "\n",
    "Contar a coluna id do restaurante\n",
    "\n",
    "Ordenar a coluna id do restaurante contado do maior para o menor\n",
    "\n",
    "Resetar o index\n",
    "\n",
    "Localizar o nome da cidade\n",
    "\n",
    "\n",
    "**Entrada**"
   ]
  },
  {
   "cell_type": "code",
   "execution_count": null,
   "id": "c03a2f43-9c1e-4b07-b0c9-53823fd21f0a",
   "metadata": {
    "tags": []
   },
   "outputs": [],
   "source": [
    "df.loc[df[\"Is delivering now\"] == 1, [\"City\", \"Restaurant ID\"]].groupby(\"City\").nunique(\"Restaurant ID\").sort_values(\"Restaurant ID\", ascending=False).reset_index().iloc[0,0]"
   ]
  },
  {
   "cell_type": "markdown",
   "id": "6a6966af-800c-4422-a0b7-00ada77f99e7",
   "metadata": {
    "jp-MarkdownHeadingCollapsed": true,
    "tags": []
   },
   "source": [
    "### 8. Qual o nome da cidade que possui a maior quantidade de restaurantes que aceitam pedidos online?"
   ]
  },
  {
   "cell_type": "markdown",
   "id": "559488ef-96e1-4c19-92d8-7125424c3f59",
   "metadata": {},
   "source": [
    "**Saída**\n",
    "\n",
    "Nome de uma cidade\n",
    "Com mais restaurantes que aceitam pedidos online\n",
    "\n",
    "\n",
    "**Processo**\n",
    "\n",
    "Filtrar linha \"Has Online delivery\" como 1\n",
    "\n",
    "Filtrar coluna cidade e id do restaurante\n",
    "\n",
    "Agrupar por cidade\n",
    "\n",
    "Contar a coluna id do restaurante\n",
    "\n",
    "Ordenar a coluna id do restaurante contado do maior para o menor\n",
    "\n",
    "Resetar o index\n",
    "\n",
    "Localizar o nome da cidade\n",
    "\n",
    "\n",
    "**Entrada**"
   ]
  },
  {
   "cell_type": "code",
   "execution_count": null,
   "id": "d6dd0587-7272-4601-be64-ee8c389ffc7e",
   "metadata": {
    "tags": []
   },
   "outputs": [],
   "source": [
    "df.loc[df[\"Has Online delivery\"] == 1, [\"City\", \"Restaurant ID\"]].groupby(\"City\").nunique(\"Restaurant ID\").sort_values(\"Restaurant ID\", ascending=False).reset_index().iloc[0,0]"
   ]
  },
  {
   "cell_type": "markdown",
   "id": "fb905eb1-6c8a-41d1-8410-f21c157803c1",
   "metadata": {
    "jp-MarkdownHeadingCollapsed": true,
    "tags": []
   },
   "source": [
    "## Restaurantes"
   ]
  },
  {
   "cell_type": "markdown",
   "id": "0fc65ff6-7ccb-4986-9b04-1f82b24d7c80",
   "metadata": {
    "jp-MarkdownHeadingCollapsed": true,
    "tags": []
   },
   "source": [
    "### 1. Qual o nome do restaurante que possui a maior quantidade de avaliações?"
   ]
  },
  {
   "cell_type": "markdown",
   "id": "970d157a-9997-44de-b5ca-18801853f185",
   "metadata": {},
   "source": [
    "**Saída**\n",
    "\n",
    "Nome do restaurante\n",
    "Com a maior quantidade de avaliações\n",
    "\n",
    "\n",
    "**Processo**\n",
    "\n",
    "Filtrar coluna nome do restaurante e avaliações\n",
    "\n",
    "Ordenar do maior para o menor a coluna avaliações\n",
    "\n",
    "Resetar o index\n",
    "\n",
    "Localizar o nome do restaurante\n",
    "\n",
    "\n",
    "**Entrada**"
   ]
  },
  {
   "cell_type": "code",
   "execution_count": null,
   "id": "ce893485-516b-47fb-8060-2e9955a68415",
   "metadata": {
    "tags": []
   },
   "outputs": [],
   "source": [
    "df.loc[:, [\"Restaurant Name\", \"Votes\"]].sort_values(\"Votes\", ascending=False).reset_index().iloc[0,1]"
   ]
  },
  {
   "cell_type": "markdown",
   "id": "03af8af1-fd1d-49a3-9702-8c2700842d5f",
   "metadata": {
    "jp-MarkdownHeadingCollapsed": true,
    "tags": []
   },
   "source": [
    "### 2. Qual o nome do restaurante com a maior nota média?"
   ]
  },
  {
   "cell_type": "markdown",
   "id": "18fe5904-8e96-41bc-a822-3c8979e95d65",
   "metadata": {
    "tags": []
   },
   "source": [
    "**Saída**\n",
    "\n",
    "Nome do restaurante\n",
    "Com a maior nota média\n",
    "\n",
    "\n",
    "**Processo**\n",
    "\n",
    "Filtrar coluna nome do restaurante, id do restaurante e nota média\n",
    "\n",
    "Ordenar do maior para o menor a coluna nota média\n",
    "\n",
    "Ordenar da menor para a maior a coluna id do restaurante\n",
    "\n",
    "Localizar o nome do restaurante\n",
    "\n",
    "\n",
    "**Entrada**"
   ]
  },
  {
   "cell_type": "code",
   "execution_count": null,
   "id": "2c811321-ae54-4139-a14d-dc90579cb4a0",
   "metadata": {
    "tags": []
   },
   "outputs": [],
   "source": [
    "df.loc[:, [\"Restaurant Name\", \"Restaurant ID\", \"Aggregate rating\"]].sort_values([\"Aggregate rating\", \"Restaurant ID\"], ascending=[False, True]).iloc[0,0]"
   ]
  },
  {
   "cell_type": "markdown",
   "id": "320a2239-a0ce-4475-8b17-8cd6f2d0a800",
   "metadata": {
    "jp-MarkdownHeadingCollapsed": true,
    "tags": []
   },
   "source": [
    "### 3. Qual o nome do restaurante que possui o maior valor de uma prato para duas pessoas?"
   ]
  },
  {
   "cell_type": "markdown",
   "id": "32ffa5d0-8d79-4597-8362-28c6fc90d19f",
   "metadata": {},
   "source": [
    "**Saída**\n",
    "\n",
    "Nome do restaurante\n",
    "Com o maior preço de um prato para duas pessoas\n",
    "\n",
    "\n",
    "**Processo**\n",
    "\n",
    "Filtrar coluna nome do restaurante, id do restaurante e preço do prato para duas pessoas\n",
    "\n",
    "Ordenar do maior para o menor a coluna preço do prato para duas pessoas\n",
    "\n",
    "Ordenar da menor para a maior a coluna id do restaurante\n",
    "\n",
    "Localizar o nome do restaurante\n",
    "\n",
    "\n",
    "**Entrada**"
   ]
  },
  {
   "cell_type": "code",
   "execution_count": null,
   "id": "979574d6-ac3d-4129-9693-d14d998fc566",
   "metadata": {
    "tags": []
   },
   "outputs": [],
   "source": [
    "df.loc[:, [\"Restaurant Name\", \"Restaurant ID\", \"Average Cost for two\"]].sort_values([\"Average Cost for two\", \"Restaurant ID\"], ascending=[False, True]).iloc[0,0]"
   ]
  },
  {
   "cell_type": "markdown",
   "id": "0f42c4ae-7d88-4050-9d5c-e8a12a3721a5",
   "metadata": {
    "jp-MarkdownHeadingCollapsed": true,
    "tags": []
   },
   "source": [
    "### 4. Qual o nome do restaurante de tipo de culinária brasileira que possui a menor média de avaliação?"
   ]
  },
  {
   "cell_type": "markdown",
   "id": "9361cb3a-7d1a-4be3-9047-9974b6cd996c",
   "metadata": {},
   "source": [
    "**Saída**\n",
    "\n",
    "Nome do restaurante\n",
    "Com culinária do tipo brasileira\n",
    "Com a menor média de avaliação\n",
    "\n",
    "\n",
    "**Processo**\n",
    "\n",
    "Filtrar linha do tipo de culinária igual a brasileira\n",
    "\n",
    "Filtrar coluna nome do restaurante, id do restaurante e nota média\n",
    "\n",
    "Ordenar do menor para o maior a coluna nota média\n",
    "\n",
    "Ordenar da menor para a maior a coluna id do restaurante\n",
    "\n",
    "Localizar o nome do restaurante\n",
    "\n",
    "\n",
    "**Entrada**"
   ]
  },
  {
   "cell_type": "code",
   "execution_count": null,
   "id": "b65c1359-61cf-4c28-b0fc-020a28705853",
   "metadata": {
    "tags": []
   },
   "outputs": [],
   "source": [
    "df.loc[df[\"Cuisines\"] == \"Brazilian\", [\"Restaurant Name\", \"Restaurant ID\", \"Aggregate rating\"]].sort_values([\"Aggregate rating\", \"Restaurant ID\"], ascending=[True, True]).iloc[0,0]"
   ]
  },
  {
   "cell_type": "markdown",
   "id": "2ed5cc06-bd15-4eac-b277-645ce6fa2e5f",
   "metadata": {
    "jp-MarkdownHeadingCollapsed": true,
    "tags": []
   },
   "source": [
    "### 5. Qual o nome do restaurante de tipo de culinária brasileira, e que é do Brasil, que possui a maior média de avaliação?"
   ]
  },
  {
   "cell_type": "markdown",
   "id": "5c3b0379-ff06-47d5-93d4-e901538cfee8",
   "metadata": {},
   "source": [
    "**Saída**\n",
    "\n",
    "Nome do restaurante\n",
    "Com culinária do tipo brasileira\n",
    "Localizado no Brasil\n",
    "Com a maior média de avaliação\n",
    "\n",
    "\n",
    "**Processo**\n",
    "\n",
    "Filtrar linha do tipo de culinária igual a brasileira E nome do país igual a Brasil\n",
    "\n",
    "Filtrar coluna nome do restaurante, id do restaurante e nota média\n",
    "\n",
    "Ordenar do maior para o menor a coluna nota média\n",
    "\n",
    "Ordenar da menor para a maior a coluna id do restaurante\n",
    "\n",
    "Localizar o nome do restaurante\n",
    "\n",
    "\n",
    "**Entrada**"
   ]
  },
  {
   "cell_type": "code",
   "execution_count": null,
   "id": "7a4e3c70-269d-4d86-bc7e-2c365d0b7846",
   "metadata": {
    "tags": []
   },
   "outputs": [],
   "source": [
    "df.loc[(df[\"Cuisines\"] == \"Brazilian\") & (df[\"Country Name\"] == \"Brazil\"), [\"Restaurant Name\", \"Restaurant ID\", \"Aggregate rating\"]].sort_values([\"Aggregate rating\", \"Restaurant ID\"], ascending=[False, True]).iloc[0,0]"
   ]
  },
  {
   "cell_type": "markdown",
   "id": "8f027045-785b-43d6-9890-dc090d2d04af",
   "metadata": {
    "jp-MarkdownHeadingCollapsed": true,
    "tags": []
   },
   "source": [
    "### 6. Os restaurantes que aceitam pedido online são também, na média, os restaurantes que mais possuem avaliações registradas?"
   ]
  },
  {
   "cell_type": "markdown",
   "id": "370315e5-a0d0-4bdd-9a8e-27b54e7f59ed",
   "metadata": {},
   "source": [
    "**Saída**\n",
    "\n",
    "Resposta com sim ou não\n",
    "\n",
    "\n",
    "**Processo**\n",
    "\n",
    "Filtrar linha restaurantes que aceitam pedidos online\n",
    "\n",
    "Filtrar coluna quantidade de avaliações recebidas\n",
    "\n",
    "Somar coluna quantidade de avaliações recebidas\n",
    "\n",
    "\n",
    "Filtrar linha restaurantes que NÃO aceitam pedidos online\n",
    "\n",
    "Filtrar coluna quantidade de avaliações recebidas\n",
    "\n",
    "Somar coluna quantidade de avaliações recebidas\n",
    "\n",
    "\n",
    "Verificar qual o maior valor entre as duas variáveis\n",
    "\n",
    "\n",
    "**Entrada**"
   ]
  },
  {
   "cell_type": "code",
   "execution_count": null,
   "id": "ef7f11bb-54ab-4dc1-abfb-30c4b2ec2ff9",
   "metadata": {
    "tags": []
   },
   "outputs": [],
   "source": [
    "df.loc[:, [\"Has Online delivery\", \"Votes\"]].groupby(\"Has Online delivery\").mean().sort_values(\"Votes\", ascending=False).reset_index()"
   ]
  },
  {
   "cell_type": "code",
   "execution_count": null,
   "id": "dabad398-b483-4158-90f7-b90818451ef5",
   "metadata": {
    "tags": []
   },
   "outputs": [],
   "source": [
    "print(\"Sim, os restaurantes que aceitam pedidos online possuem em média mais avaliações do que os restaurantes que não aceitam pedidos online\")"
   ]
  },
  {
   "cell_type": "markdown",
   "id": "8072762d-35c8-44bd-adde-481bef9c5e33",
   "metadata": {
    "jp-MarkdownHeadingCollapsed": true,
    "tags": []
   },
   "source": [
    "### 7. Os restaurantes que fazem reservas são também, na média, os restaurantes que possuem o maior valor médio de um prato para duas pessoas?"
   ]
  },
  {
   "cell_type": "code",
   "execution_count": null,
   "id": "0f3b6ecd-0670-40aa-8d81-9dbaf40e198b",
   "metadata": {
    "tags": []
   },
   "outputs": [],
   "source": [
    "df.loc[:, [\"Has Table booking\", \"Average Cost for two\"]].groupby(\"Has Table booking\").mean().sort_values(\"Average Cost for two\", ascending=False).reset_index()"
   ]
  },
  {
   "cell_type": "code",
   "execution_count": null,
   "id": "f0028729-2d6b-4feb-b2fb-7ea2f1815ee3",
   "metadata": {
    "tags": []
   },
   "outputs": [],
   "source": [
    "print(\"Sim, os restaurantes que fazem reservas possuem um valor médio de um prato para duas pessoas maior do que os restaurantes que não fazem reservas\")"
   ]
  },
  {
   "cell_type": "markdown",
   "id": "73f87f77-e1e5-454a-aa55-9ec2c86a7313",
   "metadata": {
    "jp-MarkdownHeadingCollapsed": true,
    "tags": []
   },
   "source": [
    "### 8. Os restaurantes do tipo de culinária japonesa dos Estados Unidos da América possuem um valor médio de prato para duas pessoas maior que as churrascarias americanas (BBQ)?"
   ]
  },
  {
   "cell_type": "code",
   "execution_count": null,
   "id": "23a51983-dff0-4cf2-bd1c-852c93eefcd9",
   "metadata": {
    "tags": []
   },
   "outputs": [],
   "source": [
    "df.loc[ ( ( df[\"Cuisines\"] == \"Japanese\" ) | ( df[\"Cuisines\"] == \"BBQ\" ) ) & ( df[\"Country Name\"] == \"United States of America\" ), [\"Cuisines\", \"Average Cost for two\"]].groupby(\"Cuisines\").mean(\"Average Cost for two\").sort_values(\"Average Cost for two\", ascending=False).reset_index()"
   ]
  },
  {
   "cell_type": "code",
   "execution_count": null,
   "id": "ccab4ea1-7b07-4f98-9974-e85f0d800e63",
   "metadata": {
    "tags": []
   },
   "outputs": [],
   "source": [
    "print(\"Sim, os restaurantes do tipo culinária japonesa localizados nos Estados Unidos possuem um preço médio de prato para duas pessoas maior do que os restaurantes de churrascaria também localizados nos Estados Unidos\")"
   ]
  },
  {
   "cell_type": "markdown",
   "id": "db73faff-4531-4f27-9461-2a5d9566356f",
   "metadata": {
    "jp-MarkdownHeadingCollapsed": true,
    "tags": []
   },
   "source": [
    "## Tipos de Culinária"
   ]
  },
  {
   "cell_type": "markdown",
   "id": "98ba5e5c-360a-4edf-9e55-f7a2272ed177",
   "metadata": {
    "jp-MarkdownHeadingCollapsed": true,
    "tags": []
   },
   "source": [
    "### 1. Dos restaurantes que possuem o tipo de culinária italiana, qual o nome do restaurante com a maior média de avaliação?"
   ]
  },
  {
   "cell_type": "markdown",
   "id": "d6f500dc-5b2c-4208-9a5d-10514e493db2",
   "metadata": {},
   "source": [
    "**Saída**\n",
    "\n",
    "Nome de um restaurante\n",
    "De comida italiana\n",
    "Com a maior média de avaliação\n",
    "\n",
    "\n",
    "**Processo**\n",
    "\n",
    "Filtrar linha dos restaurantes que servem culinária italiana\n",
    "\n",
    "Filtrar coluna nome do restaurante e média de avaliação\n",
    "\n",
    "Ordenar do maior para o menor valor pela média de avaliação\n",
    "\n",
    "Resetar o index\n",
    "\n",
    "Localizar o nome do restaurante\n",
    "\n",
    "\n",
    "**Entrada**"
   ]
  },
  {
   "cell_type": "code",
   "execution_count": null,
   "id": "113f8b61-1325-445e-b139-cc7c6ff4dc92",
   "metadata": {
    "tags": []
   },
   "outputs": [],
   "source": [
    "df.loc[df[\"Cuisines\"] == \"Italian\", [\"Restaurant Name\", \"Aggregate rating\", \"Restaurant ID\"]].sort_values([\"Aggregate rating\", \"Restaurant ID\"], ascending=[False, True]).reset_index().iloc[0,1]"
   ]
  },
  {
   "cell_type": "markdown",
   "id": "11fdb75b-0e41-4c98-baea-f1e87833b8fe",
   "metadata": {
    "jp-MarkdownHeadingCollapsed": true,
    "tags": []
   },
   "source": [
    "### 2. Dos restaurantes que possuem o tipo de culinária italiana, qual o nome do restaurante com a menor média de avaliação?"
   ]
  },
  {
   "cell_type": "markdown",
   "id": "0b55d5f8-d89d-434c-9b57-2704fbc2c272",
   "metadata": {},
   "source": []
  },
  {
   "cell_type": "code",
   "execution_count": null,
   "id": "b4e2df03-f00d-406d-a1a9-4c426234ace9",
   "metadata": {
    "tags": []
   },
   "outputs": [],
   "source": [
    "df.loc[df[\"Cuisines\"] == \"Italian\", [\"Restaurant Name\", \"Aggregate rating\", \"Restaurant ID\"]].sort_values([\"Aggregate rating\", \"Restaurant ID\"], ascending=[True, True]).reset_index().iloc[0,1]"
   ]
  },
  {
   "cell_type": "markdown",
   "id": "8c3ce620-bb8c-400e-bfbf-7de9eed47365",
   "metadata": {
    "jp-MarkdownHeadingCollapsed": true,
    "tags": []
   },
   "source": [
    "### 3. Dos restaurantes que possuem o tipo de culinária americana, qual o nome do restaurante com a maior média de avaliação?"
   ]
  },
  {
   "cell_type": "markdown",
   "id": "932e0e96-143a-454a-968f-055ceb7ed90e",
   "metadata": {},
   "source": []
  },
  {
   "cell_type": "code",
   "execution_count": null,
   "id": "1dcc97b8-90da-4b99-b171-d147152bc615",
   "metadata": {
    "tags": []
   },
   "outputs": [],
   "source": [
    "df.loc[df[\"Cuisines\"] == \"American\", [\"Restaurant Name\", \"Aggregate rating\", \"Restaurant ID\"]].sort_values([\"Aggregate rating\", \"Restaurant ID\"], ascending=[False, True]).reset_index().iloc[0,1]"
   ]
  },
  {
   "cell_type": "markdown",
   "id": "40f76fad-3f38-4409-8dca-51aa617c032f",
   "metadata": {
    "jp-MarkdownHeadingCollapsed": true,
    "tags": []
   },
   "source": [
    "### 4. Dos restaurantes que possuem o tipo de culinária americana, qual o nome do restaurante com a menor média de avaliação?"
   ]
  },
  {
   "cell_type": "markdown",
   "id": "27c70601-ff96-4e60-90c3-b778b6a2d83d",
   "metadata": {},
   "source": []
  },
  {
   "cell_type": "code",
   "execution_count": null,
   "id": "fa11ed91-0cbf-442c-9b76-20249d7f90cf",
   "metadata": {
    "tags": []
   },
   "outputs": [],
   "source": [
    "df.loc[df[\"Cuisines\"] == \"American\", [\"Restaurant Name\", \"Aggregate rating\", \"Restaurant ID\"]].sort_values([\"Aggregate rating\", \"Restaurant ID\"], ascending=[True, True]).reset_index().iloc[0,1]"
   ]
  },
  {
   "cell_type": "markdown",
   "id": "2ff6fdf0-74d1-4541-a018-e4a6ccf03d1e",
   "metadata": {
    "jp-MarkdownHeadingCollapsed": true,
    "tags": []
   },
   "source": [
    "### 5. Dos restaurantes que possuem o tipo de culinária árabe, qual o nome do restaurante com a maior média de avaliação?"
   ]
  },
  {
   "cell_type": "markdown",
   "id": "61ddd588-1df5-4cc0-a429-47f1a010bbaa",
   "metadata": {},
   "source": []
  },
  {
   "cell_type": "code",
   "execution_count": null,
   "id": "3c1a5cd7-5906-4145-90b4-3a22b6daddac",
   "metadata": {
    "tags": []
   },
   "outputs": [],
   "source": [
    "df.loc[df[\"Cuisines\"] == \"Arabian\", [\"Restaurant Name\", \"Aggregate rating\", \"Restaurant ID\"]].sort_values([\"Aggregate rating\", \"Restaurant ID\"], ascending=[False, True]).reset_index().iloc[0,1]"
   ]
  },
  {
   "cell_type": "markdown",
   "id": "a5e09b1e-da2f-471b-9751-f2a2ca1a2bcf",
   "metadata": {
    "jp-MarkdownHeadingCollapsed": true,
    "tags": []
   },
   "source": [
    "### 6. Dos restaurantes que possuem o tipo de culinária árabe, qual o nome do restaurante com a menor média de avaliação?"
   ]
  },
  {
   "cell_type": "markdown",
   "id": "4fd14d7b-1076-4941-bb63-9fc64ef7a55b",
   "metadata": {},
   "source": []
  },
  {
   "cell_type": "code",
   "execution_count": null,
   "id": "d0fea84e-7079-4e2c-9435-553efa4d8816",
   "metadata": {
    "tags": []
   },
   "outputs": [],
   "source": [
    "df.loc[df[\"Cuisines\"] == \"Arabian\", [\"Restaurant Name\", \"Aggregate rating\", \"Restaurant ID\"]].sort_values([\"Aggregate rating\", \"Restaurant ID\"], ascending=[True, True]).reset_index().iloc[0,1]"
   ]
  },
  {
   "cell_type": "markdown",
   "id": "5a929ec7-5d6d-4849-a186-92ac0b062cce",
   "metadata": {
    "jp-MarkdownHeadingCollapsed": true,
    "tags": []
   },
   "source": [
    "### 7. Dos restaurantes que possuem o tipo de culinária japonesa, qual o nome do restaurante com a maior média de avaliação?"
   ]
  },
  {
   "cell_type": "markdown",
   "id": "fb5dc3f7-8dc9-419d-8a17-ef5dcfdf5ff3",
   "metadata": {},
   "source": []
  },
  {
   "cell_type": "code",
   "execution_count": null,
   "id": "5ff70d68-e9f9-4fd2-9cc0-a2629f3bd5be",
   "metadata": {
    "tags": []
   },
   "outputs": [],
   "source": [
    "df.loc[df[\"Cuisines\"] == \"Japanese\", [\"Restaurant Name\", \"Aggregate rating\", \"Restaurant ID\"]].sort_values([\"Aggregate rating\", \"Restaurant ID\"], ascending=[False, True]).reset_index().iloc[0,1]"
   ]
  },
  {
   "cell_type": "markdown",
   "id": "90864c84-a86f-43a7-a322-c5fe63a80cf6",
   "metadata": {
    "jp-MarkdownHeadingCollapsed": true,
    "tags": []
   },
   "source": [
    "### 8. Dos restaurantes que possuem o tipo de culinária japonesa, qual o nome do restaurante com a menor média de avaliação?"
   ]
  },
  {
   "cell_type": "markdown",
   "id": "960d0146-00b0-4a69-9dee-fc728ce19dbb",
   "metadata": {},
   "source": []
  },
  {
   "cell_type": "code",
   "execution_count": null,
   "id": "bd31e41f-4c98-4229-a805-13c7cbdb4847",
   "metadata": {
    "tags": []
   },
   "outputs": [],
   "source": [
    "df.loc[df[\"Cuisines\"] == \"Japanese\", [\"Restaurant Name\", \"Aggregate rating\", \"Restaurant ID\"]].sort_values([\"Aggregate rating\", \"Restaurant ID\"], ascending=[True, True]).reset_index().iloc[0,1]"
   ]
  },
  {
   "cell_type": "markdown",
   "id": "46a03ae8-eee6-4818-bcd1-31f92c29aa48",
   "metadata": {
    "jp-MarkdownHeadingCollapsed": true,
    "tags": []
   },
   "source": [
    "### 9. Dos restaurantes que possuem o tipo de culinária caseira, qual o nome do restaurante com a maior média de avaliação?"
   ]
  },
  {
   "cell_type": "markdown",
   "id": "ad061623-bdbd-49b6-9a91-f9b9ce9266b0",
   "metadata": {},
   "source": []
  },
  {
   "cell_type": "code",
   "execution_count": null,
   "id": "c27c6dd9-4eb9-4c51-b30b-8554560bb261",
   "metadata": {
    "tags": []
   },
   "outputs": [],
   "source": [
    "df.loc[df[\"Cuisines\"] == \"Home-made\", [\"Restaurant Name\", \"Aggregate rating\", \"Restaurant ID\"]].sort_values([\"Aggregate rating\", \"Restaurant ID\"], ascending=[False, True]).reset_index().iloc[0,1]"
   ]
  },
  {
   "cell_type": "markdown",
   "id": "34572b19-c264-410c-898b-8fc02b15bc8e",
   "metadata": {
    "jp-MarkdownHeadingCollapsed": true,
    "tags": []
   },
   "source": [
    "### 10. Dos restaurantes que possuem o tipo de culinária caseira, qual o nome do restaurante com a menor média de avaliação?"
   ]
  },
  {
   "cell_type": "markdown",
   "id": "b48ac0d6-d3b3-4ddd-9b72-3594d6ebc55a",
   "metadata": {},
   "source": []
  },
  {
   "cell_type": "code",
   "execution_count": null,
   "id": "8b901f51-483f-4330-98f2-42d7b7ad0b3c",
   "metadata": {
    "tags": []
   },
   "outputs": [],
   "source": [
    "df.loc[df[\"Cuisines\"] == \"Home-made\", [\"Restaurant Name\", \"Aggregate rating\", \"Restaurant ID\"]].sort_values([\"Aggregate rating\", \"Restaurant ID\"], ascending=[True, True]).reset_index().iloc[0,1]"
   ]
  },
  {
   "cell_type": "markdown",
   "id": "bf1481b1-66f7-4b1f-aef1-f72bef98de54",
   "metadata": {
    "jp-MarkdownHeadingCollapsed": true,
    "tags": []
   },
   "source": [
    "### 11. Qual o tipo de culinária que possui o maior valor médio de um prato para duas pessoas?"
   ]
  },
  {
   "cell_type": "markdown",
   "id": "8907f8fe-1bb8-47e7-946a-592d05e9e458",
   "metadata": {},
   "source": [
    "**Saída**\n",
    "\n",
    "Nome de um tipo de culinária\n",
    "Com o maior valor médio\n",
    "De um prato para duas pessoas\n",
    "\n",
    "\n",
    "**Processo**\n",
    "\n",
    "Filtrar coluna tipo de culinária e preço médio do prato para duas pessoas\n",
    "\n",
    "Agrupar por tipo de culinária\n",
    "\n",
    "Calcular o preço médio de um prato para duas pessoas por tipo de culinária\n",
    "\n",
    "Ordenar do maior para a menor média\n",
    "\n",
    "Resetar o index\n",
    "\n",
    "Exibir o tipo de culinária com a maior média\n",
    "\n",
    "\n",
    "\n",
    "**Entrada**"
   ]
  },
  {
   "cell_type": "code",
   "execution_count": null,
   "id": "51e2d0c0-ab4f-4ee8-b059-72be56c3bc8a",
   "metadata": {
    "tags": []
   },
   "outputs": [],
   "source": [
    "df.loc[:, [\"Cuisines\", \"Average Cost for two\"]].groupby(\"Cuisines\").max(\"Average Cost for two\").sort_values(\"Average Cost for two\", ascending=False).reset_index().iloc[0,0]"
   ]
  },
  {
   "cell_type": "markdown",
   "id": "b907b938-a0e2-4c65-b5f7-3cf7ddb3a53b",
   "metadata": {
    "jp-MarkdownHeadingCollapsed": true,
    "tags": []
   },
   "source": [
    "### 12. Qual o tipo de culinária que possui a maior nota média?"
   ]
  },
  {
   "cell_type": "markdown",
   "id": "385dc9dc-b557-4b23-82cf-dc0d27e0a4fc",
   "metadata": {},
   "source": []
  },
  {
   "cell_type": "code",
   "execution_count": null,
   "id": "f2fa0632-4a11-49fb-a5fd-c83bad8be860",
   "metadata": {
    "tags": []
   },
   "outputs": [],
   "source": [
    "df.loc[:, [\"Cuisines\", \"Aggregate rating\"]].groupby(\"Cuisines\").mean(\"Aggregate rating\").sort_values(\"Aggregate rating\", ascending=False).reset_index().iloc[0,0]"
   ]
  },
  {
   "cell_type": "markdown",
   "id": "13a83c13-f9b5-4ad0-a9c9-319187d09ea5",
   "metadata": {
    "jp-MarkdownHeadingCollapsed": true,
    "tags": []
   },
   "source": [
    "### 13. Qual o tipo de culinária que possui mais restaurantes que aceitam pedidos online e fazem entregas?"
   ]
  },
  {
   "cell_type": "markdown",
   "id": "35343e47-c4dd-4065-bff1-fcae099b95aa",
   "metadata": {},
   "source": [
    "**Saída**\n",
    "\n",
    "Nome de um tipo de culinária\n",
    "Que possui mais restaurantes\n",
    "Que aceitam pedidos online e fazem entregas\n",
    "\n",
    "\n",
    "**Processo**\n",
    "\n",
    "Filtrar linha por tipo de restaurante que aceita pedidos online E fazem entregas\n",
    "\n",
    "Filtrar coluna tipo de culinária e id do restaurante\n",
    "\n",
    "Agrupar por tipo de culinária\n",
    "\n",
    "Conto a quantidade de restaurantes por tipo de culinária\n",
    "\n",
    "Ordenar do maior para o menor valor\n",
    "\n",
    "Resetar o index\n",
    "\n",
    "Exibir o tipo de culinária com mais restaurantes que aceitam pedidos online e fazem entregas\n",
    "\n",
    "\n",
    "\n",
    "**Entrada**"
   ]
  },
  {
   "cell_type": "code",
   "execution_count": null,
   "id": "830acf89-dbfc-4b29-8d0d-65f152515236",
   "metadata": {
    "tags": []
   },
   "outputs": [],
   "source": [
    "df.loc[(df[\"Has Online delivery\"] == 1) & (df[\"Is delivering now\"] == 1), [\"Cuisines\", \"Restaurant ID\"]].groupby(\"Cuisines\").nunique(\"Restaurant ID\").sort_values(\"Restaurant ID\", ascending=False).reset_index().iloc[0,0]"
   ]
  },
  {
   "cell_type": "markdown",
   "id": "7f7213e2-12f8-4e62-882c-cc8c1c282ba3",
   "metadata": {
    "jp-MarkdownHeadingCollapsed": true,
    "tags": []
   },
   "source": [
    "# Criação de códigos de gráficos e tabelas"
   ]
  },
  {
   "cell_type": "markdown",
   "id": "dfb0b6eb-ce96-460a-997c-d752e7d7c548",
   "metadata": {
    "jp-MarkdownHeadingCollapsed": true,
    "tags": []
   },
   "source": [
    "## Geral"
   ]
  },
  {
   "cell_type": "markdown",
   "id": "9076b130-b736-433b-871b-fa668362a29f",
   "metadata": {
    "tags": []
   },
   "source": [
    "### Quantidade de restaurantes cadastrados"
   ]
  },
  {
   "cell_type": "code",
   "execution_count": 194,
   "id": "dfa8d4c8-a630-4877-a578-f03236b0872a",
   "metadata": {
    "tags": []
   },
   "outputs": [],
   "source": [
    "qtd_rest_cadast = df.loc[:, \"Restaurant ID\"].nunique()"
   ]
  },
  {
   "cell_type": "markdown",
   "id": "7531f293-6056-4202-9e28-b7cd98230898",
   "metadata": {},
   "source": [
    "### Quantidade de avaliações recebidas"
   ]
  },
  {
   "cell_type": "code",
   "execution_count": null,
   "id": "e07a366a-d997-4343-a85e-902c07993aa6",
   "metadata": {
    "tags": []
   },
   "outputs": [],
   "source": [
    "qtd_aval_receb = df.loc[:, \"Votes\"].sum()"
   ]
  },
  {
   "cell_type": "markdown",
   "id": "b33ec51e-6427-4d29-ac4b-b76b28d08b3b",
   "metadata": {},
   "source": [
    "### Quantidade de países com restaurantes cadastrados"
   ]
  },
  {
   "cell_type": "code",
   "execution_count": 198,
   "id": "67e150a2-c08a-46b3-a248-3fb1315fd9b6",
   "metadata": {
    "tags": []
   },
   "outputs": [],
   "source": [
    "qtd_pais_rest_cadast = df.loc[:, \"Country Code\"].nunique()"
   ]
  },
  {
   "cell_type": "markdown",
   "id": "c3ea34b2-7f7e-4248-b057-62f750b70457",
   "metadata": {},
   "source": [
    "### Quantidade de cidades com restaurantes cadastrados"
   ]
  },
  {
   "cell_type": "code",
   "execution_count": null,
   "id": "81627d07-0672-4ff7-bb0c-b5b6b7889364",
   "metadata": {},
   "outputs": [],
   "source": [
    "qtd_cid_rest_cadast = df.loc[:, \"City\"].nunique()"
   ]
  },
  {
   "cell_type": "markdown",
   "id": "adbf4a2b-534d-4137-915f-eabb6f261bd3",
   "metadata": {
    "jp-MarkdownHeadingCollapsed": true,
    "tags": []
   },
   "source": [
    "### Mapa com localização dos restaurantes cadastrados no marketplace"
   ]
  },
  {
   "cell_type": "code",
   "execution_count": null,
   "id": "88e2960b-8317-4960-96d9-cd18a9aa33f9",
   "metadata": {
    "tags": []
   },
   "outputs": [],
   "source": [
    "map_with_rest = folium.Map()\n",
    "\n",
    "for index, location_info in df.iterrows():\n",
    "    folium.Marker([location_info[\"Latitude\"], location_info[\"Longitude\"]]).add_to(map_with_rest)\n",
    "    \n",
    "folium_static (map_with_rest, width=1024, height=768)"
   ]
  },
  {
   "cell_type": "code",
   "execution_count": 281,
   "id": "6e73504f-b973-49dc-9a81-17d7e1206a01",
   "metadata": {
    "tags": []
   },
   "outputs": [],
   "source": [
    "def create_map(dataframe):\n",
    "    f = folium.Figure(width=1920, height=1080)\n",
    "\n",
    "    m = folium.Map(max_bounds=True).add_to(f)\n",
    "\n",
    "    marker_cluster = MarkerCluster().add_to(m)\n",
    "\n",
    "    for _, line in dataframe.iterrows():\n",
    "\n",
    "        name = line[\"Restaurant Name\"]\n",
    "        price_for_two = line[\"Average Cost for two\"]\n",
    "        cuisine = line[\"Cuisines\"]\n",
    "        currency = line[\"Currency\"]\n",
    "        rating = line[\"Aggregate rating\"]\n",
    "        color = f'{line[\"color_name\"]}'\n",
    "\n",
    "        html = \"<p><strong>{}</strong></p>\"\n",
    "        html += \"<p>Price: {},00 ({}) para dois\"\n",
    "        html += \"<br />Type: {}\"\n",
    "        html += \"<br />Aggragate Rating: {}/5.0\"\n",
    "        html = html.format(name, price_for_two, currency, cuisine, rating)\n",
    "\n",
    "        popup = folium.Popup(\n",
    "            folium.Html(html, script=True),\n",
    "            max_width=500,\n",
    "        )\n",
    "\n",
    "        folium.Marker(\n",
    "            [line[\"Latitude\"], line[\"Longitude\"]],\n",
    "            popup=popup,\n",
    "            icon=folium.Icon(color=color, icon=\"home\", prefix=\"fa\"),\n",
    "        ).add_to(marker_cluster)\n",
    "\n",
    "    folium_static(m, width=1024, height=768)"
   ]
  },
  {
   "cell_type": "markdown",
   "id": "44e029bc-d54e-43c0-a815-8d9286d6e587",
   "metadata": {
    "jp-MarkdownHeadingCollapsed": true,
    "tags": []
   },
   "source": [
    "## País"
   ]
  },
  {
   "cell_type": "markdown",
   "id": "a19b4f8c-25ed-4533-bb36-22476bf78ee7",
   "metadata": {
    "jp-MarkdownHeadingCollapsed": true,
    "tags": []
   },
   "source": [
    "### País com maior quantidade de restaurantes cadastrados"
   ]
  },
  {
   "cell_type": "code",
   "execution_count": 94,
   "id": "8cfb660a-cc99-4303-a46b-f90edc0f2da6",
   "metadata": {
    "tags": []
   },
   "outputs": [
    {
     "data": {
      "text/plain": [
       "'India'"
      ]
     },
     "execution_count": 94,
     "metadata": {},
     "output_type": "execute_result"
    }
   ],
   "source": [
    "pais_mais_rest_cadast = df.loc[:, [\"Country Name\", \"Restaurant ID\"]].groupby(\"Country Name\").nunique(\"Restaurant ID\").sort_values(\"Restaurant ID\", ascending=False).reset_index().iloc[0,0]"
   ]
  },
  {
   "cell_type": "markdown",
   "id": "31d7044b-85f1-49ca-8dfb-17a6144e2100",
   "metadata": {
    "jp-MarkdownHeadingCollapsed": true,
    "tags": []
   },
   "source": [
    "### País com maior quantidade de avaliações registradas"
   ]
  },
  {
   "cell_type": "code",
   "execution_count": null,
   "id": "eaf99dc5-c903-4b5b-aafc-caea848f64e5",
   "metadata": {},
   "outputs": [],
   "source": [
    "pais_mais_aval_reg = df.loc[:, [\"Country Name\", \"Votes\"]].groupby(\"Country Name\").sum(\"Votes\").sort_values(\"Votes\", ascending=False).reset_index().iloc[0,0]"
   ]
  },
  {
   "cell_type": "markdown",
   "id": "ab2c627b-de65-4b30-bd4d-2a60b1c06d14",
   "metadata": {
    "jp-MarkdownHeadingCollapsed": true,
    "tags": []
   },
   "source": [
    "### Tabela com os restaurantes cadastrados por país"
   ]
  },
  {
   "cell_type": "code",
   "execution_count": null,
   "id": "285c8996-22dd-4a19-a82b-302b0932d43b",
   "metadata": {
    "tags": []
   },
   "outputs": [],
   "source": [
    "tab_rest_cad_pais = df.loc[:, [\"Country Name\", \"Restaurant ID\"]].groupby(\"Country Name\").nunique(\"Restaurant ID\").sort_values(\"Restaurant ID\", ascending=False).reset_index().loc[0:20, :]\n",
    "\n",
    "tab_rest_cad_pais.rename(columns={\"Country Name\": \"País\", \"Restaurant ID\": \"Restaurantes cadastrados\"}, inplace=True)\n",
    "\n",
    "tab_rest_cad_pais"
   ]
  },
  {
   "cell_type": "markdown",
   "id": "cbfb6156-8476-44cf-a2ae-abb25fd527b0",
   "metadata": {
    "jp-MarkdownHeadingCollapsed": true,
    "tags": []
   },
   "source": [
    "### Tabela com as avaliações recebidas por país"
   ]
  },
  {
   "cell_type": "code",
   "execution_count": null,
   "id": "77c729d4-d8a8-491f-8020-afa04afb8b31",
   "metadata": {
    "tags": []
   },
   "outputs": [],
   "source": [
    "tab_rest_aval_pais = df.loc[:, [\"Country Name\", \"Votes\"]].groupby(\"Country Name\").sum(\"Votes\").sort_values(\"Votes\", ascending=False).reset_index()\n",
    "\n",
    "tab_rest_aval_pais.rename(columns={\"Country Name\": \"País\", \"Votes\": \"Avaliações recebidas\"}, inplace=True)\n",
    "\n",
    "tab_rest_aval_pais"
   ]
  },
  {
   "cell_type": "markdown",
   "id": "12783a1c-6b1e-4383-8bc0-256874693f8d",
   "metadata": {
    "jp-MarkdownHeadingCollapsed": true,
    "tags": []
   },
   "source": [
    "### Tabela com as notas médias dos restaurantes por país"
   ]
  },
  {
   "cell_type": "code",
   "execution_count": null,
   "id": "ef4a5217-bc05-4c60-aaa1-77b22721b027",
   "metadata": {
    "tags": []
   },
   "outputs": [],
   "source": [
    "tab_aval_med_pais = df.loc[:, [\"Country Name\", \"Aggregate rating\"]].groupby(\"Country Name\").mean(\"Aggregate rating\").sort_values(\"Aggregate rating\", ascending=False).reset_index()\n",
    "\n",
    "tab_aval_med_pais.rename(columns={\"Country Name\": \"País\", \"Aggregate rating\": \"Nota média\"}, inplace=True)\n",
    "\n",
    "tab_aval_med_pais"
   ]
  },
  {
   "cell_type": "markdown",
   "id": "b85edd8a-01c5-4a57-98bc-f388467c1391",
   "metadata": {
    "tags": []
   },
   "source": [
    "## Cidade"
   ]
  },
  {
   "cell_type": "markdown",
   "id": "f2bea118-62a8-4b49-9acc-84b75078a1f0",
   "metadata": {
    "jp-MarkdownHeadingCollapsed": true,
    "tags": []
   },
   "source": [
    "## Restaurante"
   ]
  },
  {
   "cell_type": "markdown",
   "id": "80b07f97-efde-4fcb-ab24-4c335c3c4de4",
   "metadata": {
    "jp-MarkdownHeadingCollapsed": true,
    "tags": []
   },
   "source": [
    "### Restaurante com a maior avaliação"
   ]
  },
  {
   "cell_type": "code",
   "execution_count": null,
   "id": "5359cba5-2a8d-49d4-95fd-e49f07fb6e57",
   "metadata": {
    "tags": []
   },
   "outputs": [],
   "source": [
    "df.loc[:, [\"Restaurant Name\", \"Restaurant ID\", \"Aggregate rating\"]].sort_values([\"Aggregate rating\", \"Restaurant ID\"], ascending=[False, True]).iloc[0,0]"
   ]
  },
  {
   "cell_type": "markdown",
   "id": "68ad468d-2a9c-46ba-a174-ad0b3c031cd8",
   "metadata": {
    "jp-MarkdownHeadingCollapsed": true,
    "tags": []
   },
   "source": [
    "### Restaurante com a maior quantidade de avaliações recebidas"
   ]
  },
  {
   "cell_type": "code",
   "execution_count": null,
   "id": "7f129e57-a236-4795-a51f-ce34da98749f",
   "metadata": {
    "tags": []
   },
   "outputs": [],
   "source": [
    "df.loc[:, [\"Restaurant Name\", \"Votes\"]].sort_values(\"Votes\", ascending=False).reset_index().iloc[0,1]"
   ]
  },
  {
   "cell_type": "markdown",
   "id": "6adab4cd-a5bb-4460-a74e-8f519b547c95",
   "metadata": {
    "jp-MarkdownHeadingCollapsed": true,
    "tags": []
   },
   "source": [
    "### Tabela com os 20 restaurantes que possuem a maior avaliação"
   ]
  },
  {
   "cell_type": "code",
   "execution_count": null,
   "id": "28c37612-9a68-4eb4-afad-f6aef1e9fe9b",
   "metadata": {
    "tags": []
   },
   "outputs": [],
   "source": [
    "tab_20_rest_maiores_notas = df.loc[:, [\"Restaurant Name\", \"Restaurant ID\", \"Aggregate rating\"]].sort_values([\"Aggregate rating\", \"Restaurant ID\"], ascending=[False, True]).reset_index().iloc[0:20, :]\n",
    "\n",
    "tab_20_rest_maiores_notas.rename(columns={\"Restaurant Name\": \"Restaurante\", \"Restaurant ID\": \"ID do Restaurante\", \"Aggregate rating\": \"Avaliação\"}, inplace=True)\n",
    "\n",
    "tab_20_rest_maiores_notas.loc[:, [\"ID do Restaurante\", \"Restaurante\", \"Avaliação\"]]"
   ]
  },
  {
   "cell_type": "markdown",
   "id": "afa4340c-30ac-4458-890c-94c13eb218cc",
   "metadata": {
    "jp-MarkdownHeadingCollapsed": true,
    "tags": []
   },
   "source": [
    "### Tabela com os 20 restaurantes que possuem a maior quantidade de avaliações recebidas"
   ]
  },
  {
   "cell_type": "code",
   "execution_count": null,
   "id": "9450ed89-338b-4dcf-8f61-6cabff91985b",
   "metadata": {
    "tags": []
   },
   "outputs": [],
   "source": [
    "tab_20_rest_mais_aval_receb = df.loc[:, [\"Restaurant Name\", \"Restaurant ID\", \"Votes\"]].sort_values([\"Votes\", \"Restaurant ID\"], ascending=[False, True]).reset_index().iloc[0:20, :]\n",
    "\n",
    "tab_20_rest_mais_aval_receb.rename(columns={\"Restaurant Name\": \"Restaurante\", \"Restaurant ID\": \"ID do Restaurante\", \"Votes\": \"Avaliações recebidas\"}, inplace=True)\n",
    "\n",
    "tab_20_rest_mais_aval_receb.loc[:, [\"ID do Restaurante\", \"Restaurante\", \"Avaliações recebidas\"]]"
   ]
  },
  {
   "cell_type": "markdown",
   "id": "77cae49a-9e04-45e0-9051-c0f0f9338771",
   "metadata": {
    "tags": []
   },
   "source": [
    "### Tabela com os restaurantes mais bem avaliados por tipo de culinária\n",
    "Tentei mas não consegui :("
   ]
  },
  {
   "cell_type": "code",
   "execution_count": null,
   "id": "37f5acf7-355b-47b2-9eb1-b305cc7b1c70",
   "metadata": {
    "tags": []
   },
   "outputs": [],
   "source": [
    "df.loc[:, [\"Restaurant Name\", \"Restaurant ID\", \"Cuisines\", \"Aggregate rating\"]].sort_values(\"Aggregate rating\", ascending=False)."
   ]
  },
  {
   "cell_type": "markdown",
   "id": "6babe62f-43b1-45a5-a18a-9bdf1e7ca9d9",
   "metadata": {
    "jp-MarkdownHeadingCollapsed": true,
    "tags": []
   },
   "source": [
    "## Culinária"
   ]
  },
  {
   "cell_type": "markdown",
   "id": "4daa5f47-01ff-4215-9372-5d3603281c7f",
   "metadata": {
    "tags": []
   },
   "source": [
    "### Quantidade de tipos culinários distintos oferecidos pelos restaurantes cadastrados na plataforma"
   ]
  },
  {
   "cell_type": "code",
   "execution_count": 229,
   "id": "56657d70-6134-4e57-9d2b-1a7478e43193",
   "metadata": {
    "tags": []
   },
   "outputs": [
    {
     "data": {
      "text/plain": [
       "166"
      ]
     },
     "execution_count": 229,
     "metadata": {},
     "output_type": "execute_result"
    }
   ],
   "source": [
    "df.loc[:, \"Cuisines\"].nunique()"
   ]
  },
  {
   "cell_type": "markdown",
   "id": "0a06e7b7-f725-4116-b1e0-b5f6d7dae23d",
   "metadata": {
    "tags": []
   },
   "source": [
    "### Culinária com mais restaurantes cadastrados"
   ]
  },
  {
   "cell_type": "code",
   "execution_count": 230,
   "id": "00bf9e79-c06d-4425-8214-7f96635a976d",
   "metadata": {
    "tags": []
   },
   "outputs": [
    {
     "data": {
      "text/plain": [
       "'North Indian'"
      ]
     },
     "execution_count": 230,
     "metadata": {},
     "output_type": "execute_result"
    }
   ],
   "source": [
    "df.loc[:, [\"Cuisines\", \"Restaurant ID\"]].groupby(\"Cuisines\").nunique(\"Restaurant ID\").sort_values(\"Restaurant ID\", ascending=False).reset_index().iloc[0,0]"
   ]
  },
  {
   "cell_type": "markdown",
   "id": "e94587ff-cc2d-4b7e-be11-be951eaed901",
   "metadata": {
    "tags": []
   },
   "source": [
    "### Culinária com maior avaliação média dos restaurantes"
   ]
  },
  {
   "cell_type": "code",
   "execution_count": 231,
   "id": "8fd1393c-de47-4d22-8f41-680540426bff",
   "metadata": {
    "tags": []
   },
   "outputs": [
    {
     "data": {
      "text/plain": [
       "'Others'"
      ]
     },
     "execution_count": 231,
     "metadata": {},
     "output_type": "execute_result"
    }
   ],
   "source": [
    "df.loc[:, [\"Cuisines\", \"Aggregate rating\"]].groupby(\"Cuisines\").mean(\"Aggregate rating\").sort_values(\"Aggregate rating\", ascending=False).reset_index().iloc[0,0]"
   ]
  },
  {
   "cell_type": "markdown",
   "id": "92fb24f8-2bbc-443e-80c6-7c24608eb0ed",
   "metadata": {
    "tags": []
   },
   "source": [
    "### Tabela com os 20 tipos culinários com mais restaurantes cadastrados"
   ]
  },
  {
   "cell_type": "code",
   "execution_count": 232,
   "id": "1372ec94-9761-4252-803e-0290aa5ff9f8",
   "metadata": {
    "tags": []
   },
   "outputs": [
    {
     "data": {
      "text/html": [
       "<div>\n",
       "<style scoped>\n",
       "    .dataframe tbody tr th:only-of-type {\n",
       "        vertical-align: middle;\n",
       "    }\n",
       "\n",
       "    .dataframe tbody tr th {\n",
       "        vertical-align: top;\n",
       "    }\n",
       "\n",
       "    .dataframe thead th {\n",
       "        text-align: right;\n",
       "    }\n",
       "</style>\n",
       "<table border=\"1\" class=\"dataframe\">\n",
       "  <thead>\n",
       "    <tr style=\"text-align: right;\">\n",
       "      <th></th>\n",
       "      <th>Tipo de Culinária</th>\n",
       "      <th>Restaurantes Cadastrados</th>\n",
       "    </tr>\n",
       "  </thead>\n",
       "  <tbody>\n",
       "    <tr>\n",
       "      <th>0</th>\n",
       "      <td>North Indian</td>\n",
       "      <td>878</td>\n",
       "    </tr>\n",
       "    <tr>\n",
       "      <th>1</th>\n",
       "      <td>American</td>\n",
       "      <td>520</td>\n",
       "    </tr>\n",
       "    <tr>\n",
       "      <th>2</th>\n",
       "      <td>Cafe</td>\n",
       "      <td>465</td>\n",
       "    </tr>\n",
       "    <tr>\n",
       "      <th>3</th>\n",
       "      <td>Italian</td>\n",
       "      <td>390</td>\n",
       "    </tr>\n",
       "    <tr>\n",
       "      <th>4</th>\n",
       "      <td>Pizza</td>\n",
       "      <td>301</td>\n",
       "    </tr>\n",
       "    <tr>\n",
       "      <th>5</th>\n",
       "      <td>Chinese</td>\n",
       "      <td>256</td>\n",
       "    </tr>\n",
       "    <tr>\n",
       "      <th>6</th>\n",
       "      <td>Burger</td>\n",
       "      <td>224</td>\n",
       "    </tr>\n",
       "    <tr>\n",
       "      <th>7</th>\n",
       "      <td>Fast Food</td>\n",
       "      <td>218</td>\n",
       "    </tr>\n",
       "    <tr>\n",
       "      <th>8</th>\n",
       "      <td>Continental</td>\n",
       "      <td>201</td>\n",
       "    </tr>\n",
       "    <tr>\n",
       "      <th>9</th>\n",
       "      <td>Seafood</td>\n",
       "      <td>183</td>\n",
       "    </tr>\n",
       "    <tr>\n",
       "      <th>10</th>\n",
       "      <td>Indian</td>\n",
       "      <td>181</td>\n",
       "    </tr>\n",
       "    <tr>\n",
       "      <th>11</th>\n",
       "      <td>Japanese</td>\n",
       "      <td>180</td>\n",
       "    </tr>\n",
       "    <tr>\n",
       "      <th>12</th>\n",
       "      <td>South Indian</td>\n",
       "      <td>156</td>\n",
       "    </tr>\n",
       "    <tr>\n",
       "      <th>13</th>\n",
       "      <td>Mexican</td>\n",
       "      <td>132</td>\n",
       "    </tr>\n",
       "    <tr>\n",
       "      <th>14</th>\n",
       "      <td>Biryani</td>\n",
       "      <td>130</td>\n",
       "    </tr>\n",
       "    <tr>\n",
       "      <th>15</th>\n",
       "      <td>Asian</td>\n",
       "      <td>123</td>\n",
       "    </tr>\n",
       "    <tr>\n",
       "      <th>16</th>\n",
       "      <td>European</td>\n",
       "      <td>119</td>\n",
       "    </tr>\n",
       "    <tr>\n",
       "      <th>17</th>\n",
       "      <td>Desserts</td>\n",
       "      <td>109</td>\n",
       "    </tr>\n",
       "    <tr>\n",
       "      <th>18</th>\n",
       "      <td>French</td>\n",
       "      <td>97</td>\n",
       "    </tr>\n",
       "    <tr>\n",
       "      <th>19</th>\n",
       "      <td>Bakery</td>\n",
       "      <td>84</td>\n",
       "    </tr>\n",
       "    <tr>\n",
       "      <th>20</th>\n",
       "      <td>Steak</td>\n",
       "      <td>82</td>\n",
       "    </tr>\n",
       "  </tbody>\n",
       "</table>\n",
       "</div>"
      ],
      "text/plain": [
       "   Tipo de Culinária  Restaurantes Cadastrados\n",
       "0       North Indian                       878\n",
       "1           American                       520\n",
       "2               Cafe                       465\n",
       "3            Italian                       390\n",
       "4              Pizza                       301\n",
       "5            Chinese                       256\n",
       "6             Burger                       224\n",
       "7          Fast Food                       218\n",
       "8        Continental                       201\n",
       "9            Seafood                       183\n",
       "10            Indian                       181\n",
       "11          Japanese                       180\n",
       "12      South Indian                       156\n",
       "13           Mexican                       132\n",
       "14           Biryani                       130\n",
       "15             Asian                       123\n",
       "16          European                       119\n",
       "17          Desserts                       109\n",
       "18            French                        97\n",
       "19            Bakery                        84\n",
       "20             Steak                        82"
      ]
     },
     "execution_count": 232,
     "metadata": {},
     "output_type": "execute_result"
    }
   ],
   "source": [
    "tab_20_tipo_cul_mais_rest_cadast = df.loc[:, [\"Cuisines\", \"Restaurant ID\"]].groupby(\"Cuisines\").nunique(\"Restauarant ID\").sort_values(\"Restaurant ID\", ascending=False).reset_index().loc[0:20, :]\n",
    "\n",
    "tab_20_tipo_cul_mais_rest_cadast.rename(columns={\"Cuisines\": \"Tipo de Culinária\", \"Restaurant ID\": \"Restaurantes Cadastrados\"}, inplace=True)\n",
    "\n",
    "tab_20_tipo_cul_mais_rest_cadast"
   ]
  },
  {
   "cell_type": "markdown",
   "id": "d69cdf2a-f3c3-4703-9155-b0209e24d7a1",
   "metadata": {
    "tags": []
   },
   "source": [
    "### Tabela com os 20 tipos culinários com maior nota média"
   ]
  },
  {
   "cell_type": "code",
   "execution_count": 233,
   "id": "8e240a10-3766-449a-8bb6-0d42613dd360",
   "metadata": {
    "tags": []
   },
   "outputs": [
    {
     "data": {
      "text/html": [
       "<div>\n",
       "<style scoped>\n",
       "    .dataframe tbody tr th:only-of-type {\n",
       "        vertical-align: middle;\n",
       "    }\n",
       "\n",
       "    .dataframe tbody tr th {\n",
       "        vertical-align: top;\n",
       "    }\n",
       "\n",
       "    .dataframe thead th {\n",
       "        text-align: right;\n",
       "    }\n",
       "</style>\n",
       "<table border=\"1\" class=\"dataframe\">\n",
       "  <thead>\n",
       "    <tr style=\"text-align: right;\">\n",
       "      <th></th>\n",
       "      <th>Tipo de Culinária</th>\n",
       "      <th>Nota média</th>\n",
       "    </tr>\n",
       "  </thead>\n",
       "  <tbody>\n",
       "    <tr>\n",
       "      <th>0</th>\n",
       "      <td>Others</td>\n",
       "      <td>4.90</td>\n",
       "    </tr>\n",
       "    <tr>\n",
       "      <th>1</th>\n",
       "      <td>Ottoman</td>\n",
       "      <td>4.80</td>\n",
       "    </tr>\n",
       "    <tr>\n",
       "      <th>2</th>\n",
       "      <td>Egyptian</td>\n",
       "      <td>4.80</td>\n",
       "    </tr>\n",
       "    <tr>\n",
       "      <th>3</th>\n",
       "      <td>Ramen</td>\n",
       "      <td>4.80</td>\n",
       "    </tr>\n",
       "    <tr>\n",
       "      <th>4</th>\n",
       "      <td>Sunda</td>\n",
       "      <td>4.75</td>\n",
       "    </tr>\n",
       "    <tr>\n",
       "      <th>5</th>\n",
       "      <td>Fresh Fish</td>\n",
       "      <td>4.75</td>\n",
       "    </tr>\n",
       "    <tr>\n",
       "      <th>6</th>\n",
       "      <td>Author</td>\n",
       "      <td>4.70</td>\n",
       "    </tr>\n",
       "    <tr>\n",
       "      <th>7</th>\n",
       "      <td>Polish</td>\n",
       "      <td>4.70</td>\n",
       "    </tr>\n",
       "    <tr>\n",
       "      <th>8</th>\n",
       "      <td>Burmese</td>\n",
       "      <td>4.65</td>\n",
       "    </tr>\n",
       "    <tr>\n",
       "      <th>9</th>\n",
       "      <td>Crepes</td>\n",
       "      <td>4.60</td>\n",
       "    </tr>\n",
       "    <tr>\n",
       "      <th>10</th>\n",
       "      <td>Eastern European</td>\n",
       "      <td>4.60</td>\n",
       "    </tr>\n",
       "    <tr>\n",
       "      <th>11</th>\n",
       "      <td>Ukrainian</td>\n",
       "      <td>4.60</td>\n",
       "    </tr>\n",
       "    <tr>\n",
       "      <th>12</th>\n",
       "      <td>Pan Asian</td>\n",
       "      <td>4.60</td>\n",
       "    </tr>\n",
       "    <tr>\n",
       "      <th>13</th>\n",
       "      <td>Dimsum</td>\n",
       "      <td>4.60</td>\n",
       "    </tr>\n",
       "    <tr>\n",
       "      <th>14</th>\n",
       "      <td>Filipino</td>\n",
       "      <td>4.58</td>\n",
       "    </tr>\n",
       "    <tr>\n",
       "      <th>15</th>\n",
       "      <td>Cajun</td>\n",
       "      <td>4.56</td>\n",
       "    </tr>\n",
       "    <tr>\n",
       "      <th>16</th>\n",
       "      <td>Patisserie</td>\n",
       "      <td>4.55</td>\n",
       "    </tr>\n",
       "    <tr>\n",
       "      <th>17</th>\n",
       "      <td>Old Turkish Bars</td>\n",
       "      <td>4.55</td>\n",
       "    </tr>\n",
       "    <tr>\n",
       "      <th>18</th>\n",
       "      <td>Taco</td>\n",
       "      <td>4.54</td>\n",
       "    </tr>\n",
       "    <tr>\n",
       "      <th>19</th>\n",
       "      <td>Pub Food</td>\n",
       "      <td>4.53</td>\n",
       "    </tr>\n",
       "    <tr>\n",
       "      <th>20</th>\n",
       "      <td>Western</td>\n",
       "      <td>4.53</td>\n",
       "    </tr>\n",
       "  </tbody>\n",
       "</table>\n",
       "</div>"
      ],
      "text/plain": [
       "   Tipo de Culinária  Nota média\n",
       "0             Others        4.90\n",
       "1            Ottoman        4.80\n",
       "2           Egyptian        4.80\n",
       "3              Ramen        4.80\n",
       "4              Sunda        4.75\n",
       "5         Fresh Fish        4.75\n",
       "6             Author        4.70\n",
       "7             Polish        4.70\n",
       "8            Burmese        4.65\n",
       "9             Crepes        4.60\n",
       "10  Eastern European        4.60\n",
       "11         Ukrainian        4.60\n",
       "12         Pan Asian        4.60\n",
       "13            Dimsum        4.60\n",
       "14          Filipino        4.58\n",
       "15             Cajun        4.56\n",
       "16        Patisserie        4.55\n",
       "17  Old Turkish Bars        4.55\n",
       "18              Taco        4.54\n",
       "19          Pub Food        4.53\n",
       "20           Western        4.53"
      ]
     },
     "execution_count": 233,
     "metadata": {},
     "output_type": "execute_result"
    }
   ],
   "source": [
    "tab_20_tipo_cul_maior_not_media = df.loc[:, [\"Cuisines\", \"Aggregate rating\"]].groupby(\"Cuisines\").mean(\"Aggregate rating\").round(2).sort_values(\"Aggregate rating\", ascending=False).reset_index().loc[0:20, :]\n",
    "\n",
    "tab_20_tipo_cul_maior_not_media.rename(columns={\"Cuisines\": \"Tipo de Culinária\", \"Aggregate rating\": \"Nota média\"}, inplace=True)\n",
    "\n",
    "tab_20_tipo_cul_maior_not_media"
   ]
  },
  {
   "cell_type": "markdown",
   "id": "cdeb6c73-4e88-4e8b-afbf-72296ed3fa43",
   "metadata": {
    "tags": []
   },
   "source": [
    "### Tabela com os 20 tipos culinários com menor avaliação média"
   ]
  },
  {
   "cell_type": "code",
   "execution_count": 234,
   "id": "3ab1cf2c-1667-4d4b-84ca-7fc3b127bdd5",
   "metadata": {
    "tags": []
   },
   "outputs": [
    {
     "data": {
      "text/html": [
       "<div>\n",
       "<style scoped>\n",
       "    .dataframe tbody tr th:only-of-type {\n",
       "        vertical-align: middle;\n",
       "    }\n",
       "\n",
       "    .dataframe tbody tr th {\n",
       "        vertical-align: top;\n",
       "    }\n",
       "\n",
       "    .dataframe thead th {\n",
       "        text-align: right;\n",
       "    }\n",
       "</style>\n",
       "<table border=\"1\" class=\"dataframe\">\n",
       "  <thead>\n",
       "    <tr style=\"text-align: right;\">\n",
       "      <th></th>\n",
       "      <th>Tipo de Culinária</th>\n",
       "      <th>Nota média</th>\n",
       "    </tr>\n",
       "  </thead>\n",
       "  <tbody>\n",
       "    <tr>\n",
       "      <th>0</th>\n",
       "      <td>Mineira</td>\n",
       "      <td>0.00</td>\n",
       "    </tr>\n",
       "    <tr>\n",
       "      <th>1</th>\n",
       "      <td>Drinks Only</td>\n",
       "      <td>0.00</td>\n",
       "    </tr>\n",
       "    <tr>\n",
       "      <th>2</th>\n",
       "      <td>nan</td>\n",
       "      <td>1.81</td>\n",
       "    </tr>\n",
       "    <tr>\n",
       "      <th>3</th>\n",
       "      <td>Afghan</td>\n",
       "      <td>2.05</td>\n",
       "    </tr>\n",
       "    <tr>\n",
       "      <th>4</th>\n",
       "      <td>Bengali</td>\n",
       "      <td>2.13</td>\n",
       "    </tr>\n",
       "    <tr>\n",
       "      <th>5</th>\n",
       "      <td>Tea</td>\n",
       "      <td>2.46</td>\n",
       "    </tr>\n",
       "    <tr>\n",
       "      <th>6</th>\n",
       "      <td>Tibetan</td>\n",
       "      <td>2.80</td>\n",
       "    </tr>\n",
       "    <tr>\n",
       "      <th>7</th>\n",
       "      <td>Durban</td>\n",
       "      <td>2.90</td>\n",
       "    </tr>\n",
       "    <tr>\n",
       "      <th>8</th>\n",
       "      <td>Armenian</td>\n",
       "      <td>3.40</td>\n",
       "    </tr>\n",
       "    <tr>\n",
       "      <th>9</th>\n",
       "      <td>Cantonese</td>\n",
       "      <td>3.40</td>\n",
       "    </tr>\n",
       "    <tr>\n",
       "      <th>10</th>\n",
       "      <td>Brazilian</td>\n",
       "      <td>3.46</td>\n",
       "    </tr>\n",
       "    <tr>\n",
       "      <th>11</th>\n",
       "      <td>Nepalese</td>\n",
       "      <td>3.52</td>\n",
       "    </tr>\n",
       "    <tr>\n",
       "      <th>12</th>\n",
       "      <td>Iranian</td>\n",
       "      <td>3.60</td>\n",
       "    </tr>\n",
       "    <tr>\n",
       "      <th>13</th>\n",
       "      <td>Argentine</td>\n",
       "      <td>3.67</td>\n",
       "    </tr>\n",
       "    <tr>\n",
       "      <th>14</th>\n",
       "      <td>Vegetarian</td>\n",
       "      <td>3.68</td>\n",
       "    </tr>\n",
       "    <tr>\n",
       "      <th>15</th>\n",
       "      <td>Beverages</td>\n",
       "      <td>3.69</td>\n",
       "    </tr>\n",
       "    <tr>\n",
       "      <th>16</th>\n",
       "      <td>Arabian</td>\n",
       "      <td>3.80</td>\n",
       "    </tr>\n",
       "    <tr>\n",
       "      <th>17</th>\n",
       "      <td>Australian</td>\n",
       "      <td>3.80</td>\n",
       "    </tr>\n",
       "    <tr>\n",
       "      <th>18</th>\n",
       "      <td>African</td>\n",
       "      <td>3.85</td>\n",
       "    </tr>\n",
       "    <tr>\n",
       "      <th>19</th>\n",
       "      <td>Grill</td>\n",
       "      <td>3.85</td>\n",
       "    </tr>\n",
       "    <tr>\n",
       "      <th>20</th>\n",
       "      <td>Home-made</td>\n",
       "      <td>3.85</td>\n",
       "    </tr>\n",
       "  </tbody>\n",
       "</table>\n",
       "</div>"
      ],
      "text/plain": [
       "   Tipo de Culinária  Nota média\n",
       "0            Mineira        0.00\n",
       "1        Drinks Only        0.00\n",
       "2                nan        1.81\n",
       "3             Afghan        2.05\n",
       "4            Bengali        2.13\n",
       "5                Tea        2.46\n",
       "6            Tibetan        2.80\n",
       "7             Durban        2.90\n",
       "8           Armenian        3.40\n",
       "9          Cantonese        3.40\n",
       "10         Brazilian        3.46\n",
       "11          Nepalese        3.52\n",
       "12           Iranian        3.60\n",
       "13         Argentine        3.67\n",
       "14        Vegetarian        3.68\n",
       "15         Beverages        3.69\n",
       "16           Arabian        3.80\n",
       "17        Australian        3.80\n",
       "18           African        3.85\n",
       "19             Grill        3.85\n",
       "20         Home-made        3.85"
      ]
     },
     "execution_count": 234,
     "metadata": {},
     "output_type": "execute_result"
    }
   ],
   "source": [
    "tab_20_tipo_cul_menor_not_media = df.loc[:, [\"Cuisines\", \"Aggregate rating\"]].groupby(\"Cuisines\").mean(\"Aggregate rating\").round(2).sort_values(\"Aggregate rating\", ascending=True).reset_index().loc[0:20, :]\n",
    "\n",
    "tab_20_tipo_cul_menor_not_media.rename(columns={\"Cuisines\": \"Tipo de Culinária\", \"Aggregate rating\": \"Nota média\"}, inplace=True)\n",
    "\n",
    "tab_20_tipo_cul_menor_not_media"
   ]
  },
  {
   "cell_type": "markdown",
   "id": "2e335df5-be90-4405-bdbf-25bb44d2ef48",
   "metadata": {
    "tags": []
   },
   "source": [
    "### Melhor restaurante comida italiana"
   ]
  },
  {
   "cell_type": "code",
   "execution_count": 235,
   "id": "fb49eab8-455d-4157-89f5-aaa79fb5c7b7",
   "metadata": {
    "tags": []
   },
   "outputs": [
    {
     "data": {
      "text/plain": [
       "'Darshan'"
      ]
     },
     "execution_count": 235,
     "metadata": {},
     "output_type": "execute_result"
    }
   ],
   "source": [
    "df.loc[df[\"Cuisines\"] == \"Italian\", [\"Restaurant Name\", \"Aggregate rating\", \"Restaurant ID\"]].sort_values([\"Aggregate rating\", \"Restaurant ID\"], ascending=[False, True]).reset_index().iloc[0,1]"
   ]
  },
  {
   "cell_type": "markdown",
   "id": "4d0d7270-9af2-4369-8328-705597a0cf41",
   "metadata": {
    "tags": []
   },
   "source": [
    "### Melhor restaurante comida americana"
   ]
  },
  {
   "cell_type": "code",
   "execution_count": 236,
   "id": "ce183f9b-6c90-4986-865c-be61e4e8679c",
   "metadata": {
    "tags": []
   },
   "outputs": [
    {
     "data": {
      "text/plain": [
       "'Burger & Lobster'"
      ]
     },
     "execution_count": 236,
     "metadata": {},
     "output_type": "execute_result"
    }
   ],
   "source": [
    "df.loc[df[\"Cuisines\"] == \"American\", [\"Restaurant Name\", \"Aggregate rating\", \"Restaurant ID\"]].sort_values([\"Aggregate rating\", \"Restaurant ID\"], ascending=[False, True]).reset_index().iloc[0,1]"
   ]
  },
  {
   "cell_type": "markdown",
   "id": "234672c8-4e9f-4293-96f1-741ec1082fc6",
   "metadata": {
    "tags": []
   },
   "source": [
    "### Melhor restaurante comida árabe"
   ]
  },
  {
   "cell_type": "code",
   "execution_count": 237,
   "id": "eac9bad6-5ea4-42f8-998d-0a80c2de29b2",
   "metadata": {
    "tags": []
   },
   "outputs": [
    {
     "data": {
      "text/plain": [
       "'Mandi@36'"
      ]
     },
     "execution_count": 237,
     "metadata": {},
     "output_type": "execute_result"
    }
   ],
   "source": [
    "df.loc[df[\"Cuisines\"] == \"Arabian\", [\"Restaurant Name\", \"Aggregate rating\", \"Restaurant ID\"]].sort_values([\"Aggregate rating\", \"Restaurant ID\"], ascending=[False, True]).reset_index().iloc[0,1]"
   ]
  },
  {
   "cell_type": "markdown",
   "id": "61b0a7cf-d966-4d38-b535-0b1184321fd8",
   "metadata": {
    "tags": []
   },
   "source": [
    "### Melhor restaurante comida japonesa"
   ]
  },
  {
   "cell_type": "code",
   "execution_count": 238,
   "id": "1b618c73-18ad-4e07-9ef9-8ea6645b9eb9",
   "metadata": {
    "tags": []
   },
   "outputs": [
    {
     "data": {
      "text/plain": [
       "'Sushi Samba'"
      ]
     },
     "execution_count": 238,
     "metadata": {},
     "output_type": "execute_result"
    }
   ],
   "source": [
    "df.loc[df[\"Cuisines\"] == \"Japanese\", [\"Restaurant Name\", \"Aggregate rating\", \"Restaurant ID\"]].sort_values([\"Aggregate rating\", \"Restaurant ID\"], ascending=[False, True]).reset_index().iloc[0,1]"
   ]
  },
  {
   "cell_type": "markdown",
   "id": "684c3d25-0503-4cd5-b22d-fe7b616e329f",
   "metadata": {
    "tags": []
   },
   "source": [
    "### Melhor restaurante comida caseira"
   ]
  },
  {
   "cell_type": "code",
   "execution_count": 239,
   "id": "032ff21d-0ed0-442c-8ccd-282288e315f7",
   "metadata": {
    "tags": []
   },
   "outputs": [
    {
     "data": {
      "text/plain": [
       "'Kanaat Lokantası'"
      ]
     },
     "execution_count": 239,
     "metadata": {},
     "output_type": "execute_result"
    }
   ],
   "source": [
    "df.loc[df[\"Cuisines\"] == \"Home-made\", [\"Restaurant Name\", \"Aggregate rating\", \"Restaurant ID\"]].sort_values([\"Aggregate rating\", \"Restaurant ID\"], ascending=[False, True]).reset_index().iloc[0,1]"
   ]
  },
  {
   "cell_type": "code",
   "execution_count": null,
   "id": "0ef1c11b-46e4-4a29-adeb-9df8ea3c79bc",
   "metadata": {},
   "outputs": [],
   "source": []
  }
 ],
 "metadata": {
  "kernelspec": {
   "display_name": "Python 3 (ipykernel)",
   "language": "python",
   "name": "python3"
  },
  "language_info": {
   "codemirror_mode": {
    "name": "ipython",
    "version": 3
   },
   "file_extension": ".py",
   "mimetype": "text/x-python",
   "name": "python",
   "nbconvert_exporter": "python",
   "pygments_lexer": "ipython3",
   "version": "3.8.16"
  }
 },
 "nbformat": 4,
 "nbformat_minor": 5
}
